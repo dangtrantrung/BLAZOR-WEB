{
 "cells": [
  {
   "cell_type": "markdown",
   "id": "52f42c21",
   "metadata": {},
   "source": [
    "# Getting and Knowning Data"
   ]
  },
  {
   "cell_type": "code",
   "execution_count": 1,
   "id": "4ce1469a",
   "metadata": {},
   "outputs": [],
   "source": [
    "import pandas as pd\n",
    "import numpy as ny"
   ]
  },
  {
   "cell_type": "markdown",
   "id": "36f94251",
   "metadata": {},
   "source": [
    "## Step 1: Import Dataset"
   ]
  },
  {
   "cell_type": "code",
   "execution_count": 2,
   "id": "d96bf8d1",
   "metadata": {},
   "outputs": [],
   "source": [
    "df=pd.read_csv('chipotle.tsv',sep='\\t')"
   ]
  },
  {
   "cell_type": "code",
   "execution_count": 3,
   "id": "0b99017c",
   "metadata": {},
   "outputs": [
    {
     "data": {
      "text/html": [
       "<div>\n",
       "<style scoped>\n",
       "    .dataframe tbody tr th:only-of-type {\n",
       "        vertical-align: middle;\n",
       "    }\n",
       "\n",
       "    .dataframe tbody tr th {\n",
       "        vertical-align: top;\n",
       "    }\n",
       "\n",
       "    .dataframe thead th {\n",
       "        text-align: right;\n",
       "    }\n",
       "</style>\n",
       "<table border=\"1\" class=\"dataframe\">\n",
       "  <thead>\n",
       "    <tr style=\"text-align: right;\">\n",
       "      <th></th>\n",
       "      <th>order_id</th>\n",
       "      <th>quantity</th>\n",
       "      <th>item_name</th>\n",
       "      <th>choice_description</th>\n",
       "      <th>item_price</th>\n",
       "    </tr>\n",
       "  </thead>\n",
       "  <tbody>\n",
       "    <tr>\n",
       "      <th>0</th>\n",
       "      <td>1</td>\n",
       "      <td>1</td>\n",
       "      <td>Chips and Fresh Tomato Salsa</td>\n",
       "      <td>NaN</td>\n",
       "      <td>$2.39</td>\n",
       "    </tr>\n",
       "    <tr>\n",
       "      <th>1</th>\n",
       "      <td>1</td>\n",
       "      <td>1</td>\n",
       "      <td>Izze</td>\n",
       "      <td>[Clementine]</td>\n",
       "      <td>$3.39</td>\n",
       "    </tr>\n",
       "    <tr>\n",
       "      <th>2</th>\n",
       "      <td>1</td>\n",
       "      <td>1</td>\n",
       "      <td>Nantucket Nectar</td>\n",
       "      <td>[Apple]</td>\n",
       "      <td>$3.39</td>\n",
       "    </tr>\n",
       "    <tr>\n",
       "      <th>3</th>\n",
       "      <td>1</td>\n",
       "      <td>1</td>\n",
       "      <td>Chips and Tomatillo-Green Chili Salsa</td>\n",
       "      <td>NaN</td>\n",
       "      <td>$2.39</td>\n",
       "    </tr>\n",
       "    <tr>\n",
       "      <th>4</th>\n",
       "      <td>2</td>\n",
       "      <td>2</td>\n",
       "      <td>Chicken Bowl</td>\n",
       "      <td>[Tomatillo-Red Chili Salsa (Hot), [Black Beans...</td>\n",
       "      <td>$16.98</td>\n",
       "    </tr>\n",
       "    <tr>\n",
       "      <th>...</th>\n",
       "      <td>...</td>\n",
       "      <td>...</td>\n",
       "      <td>...</td>\n",
       "      <td>...</td>\n",
       "      <td>...</td>\n",
       "    </tr>\n",
       "    <tr>\n",
       "      <th>4617</th>\n",
       "      <td>1833</td>\n",
       "      <td>1</td>\n",
       "      <td>Steak Burrito</td>\n",
       "      <td>[Fresh Tomato Salsa, [Rice, Black Beans, Sour ...</td>\n",
       "      <td>$11.75</td>\n",
       "    </tr>\n",
       "    <tr>\n",
       "      <th>4618</th>\n",
       "      <td>1833</td>\n",
       "      <td>1</td>\n",
       "      <td>Steak Burrito</td>\n",
       "      <td>[Fresh Tomato Salsa, [Rice, Sour Cream, Cheese...</td>\n",
       "      <td>$11.75</td>\n",
       "    </tr>\n",
       "    <tr>\n",
       "      <th>4619</th>\n",
       "      <td>1834</td>\n",
       "      <td>1</td>\n",
       "      <td>Chicken Salad Bowl</td>\n",
       "      <td>[Fresh Tomato Salsa, [Fajita Vegetables, Pinto...</td>\n",
       "      <td>$11.25</td>\n",
       "    </tr>\n",
       "    <tr>\n",
       "      <th>4620</th>\n",
       "      <td>1834</td>\n",
       "      <td>1</td>\n",
       "      <td>Chicken Salad Bowl</td>\n",
       "      <td>[Fresh Tomato Salsa, [Fajita Vegetables, Lettu...</td>\n",
       "      <td>$8.75</td>\n",
       "    </tr>\n",
       "    <tr>\n",
       "      <th>4621</th>\n",
       "      <td>1834</td>\n",
       "      <td>1</td>\n",
       "      <td>Chicken Salad Bowl</td>\n",
       "      <td>[Fresh Tomato Salsa, [Fajita Vegetables, Pinto...</td>\n",
       "      <td>$8.75</td>\n",
       "    </tr>\n",
       "  </tbody>\n",
       "</table>\n",
       "<p>4622 rows × 5 columns</p>\n",
       "</div>"
      ],
      "text/plain": [
       "      order_id  quantity                              item_name  \\\n",
       "0            1         1           Chips and Fresh Tomato Salsa   \n",
       "1            1         1                                   Izze   \n",
       "2            1         1                       Nantucket Nectar   \n",
       "3            1         1  Chips and Tomatillo-Green Chili Salsa   \n",
       "4            2         2                           Chicken Bowl   \n",
       "...        ...       ...                                    ...   \n",
       "4617      1833         1                          Steak Burrito   \n",
       "4618      1833         1                          Steak Burrito   \n",
       "4619      1834         1                     Chicken Salad Bowl   \n",
       "4620      1834         1                     Chicken Salad Bowl   \n",
       "4621      1834         1                     Chicken Salad Bowl   \n",
       "\n",
       "                                     choice_description item_price  \n",
       "0                                                   NaN     $2.39   \n",
       "1                                          [Clementine]     $3.39   \n",
       "2                                               [Apple]     $3.39   \n",
       "3                                                   NaN     $2.39   \n",
       "4     [Tomatillo-Red Chili Salsa (Hot), [Black Beans...    $16.98   \n",
       "...                                                 ...        ...  \n",
       "4617  [Fresh Tomato Salsa, [Rice, Black Beans, Sour ...    $11.75   \n",
       "4618  [Fresh Tomato Salsa, [Rice, Sour Cream, Cheese...    $11.75   \n",
       "4619  [Fresh Tomato Salsa, [Fajita Vegetables, Pinto...    $11.25   \n",
       "4620  [Fresh Tomato Salsa, [Fajita Vegetables, Lettu...     $8.75   \n",
       "4621  [Fresh Tomato Salsa, [Fajita Vegetables, Pinto...     $8.75   \n",
       "\n",
       "[4622 rows x 5 columns]"
      ]
     },
     "execution_count": 3,
     "metadata": {},
     "output_type": "execute_result"
    }
   ],
   "source": [
    "df\n"
   ]
  },
  {
   "cell_type": "markdown",
   "id": "2edf312b",
   "metadata": {},
   "source": [
    "df.head(5)"
   ]
  },
  {
   "cell_type": "code",
   "execution_count": 4,
   "id": "d72c065d",
   "metadata": {},
   "outputs": [
    {
     "data": {
      "text/html": [
       "<div>\n",
       "<style scoped>\n",
       "    .dataframe tbody tr th:only-of-type {\n",
       "        vertical-align: middle;\n",
       "    }\n",
       "\n",
       "    .dataframe tbody tr th {\n",
       "        vertical-align: top;\n",
       "    }\n",
       "\n",
       "    .dataframe thead th {\n",
       "        text-align: right;\n",
       "    }\n",
       "</style>\n",
       "<table border=\"1\" class=\"dataframe\">\n",
       "  <thead>\n",
       "    <tr style=\"text-align: right;\">\n",
       "      <th></th>\n",
       "      <th>order_id</th>\n",
       "      <th>quantity</th>\n",
       "      <th>item_name</th>\n",
       "      <th>choice_description</th>\n",
       "      <th>item_price</th>\n",
       "    </tr>\n",
       "  </thead>\n",
       "  <tbody>\n",
       "    <tr>\n",
       "      <th>0</th>\n",
       "      <td>1</td>\n",
       "      <td>1</td>\n",
       "      <td>Chips and Fresh Tomato Salsa</td>\n",
       "      <td>NaN</td>\n",
       "      <td>$2.39</td>\n",
       "    </tr>\n",
       "    <tr>\n",
       "      <th>1</th>\n",
       "      <td>1</td>\n",
       "      <td>1</td>\n",
       "      <td>Izze</td>\n",
       "      <td>[Clementine]</td>\n",
       "      <td>$3.39</td>\n",
       "    </tr>\n",
       "    <tr>\n",
       "      <th>2</th>\n",
       "      <td>1</td>\n",
       "      <td>1</td>\n",
       "      <td>Nantucket Nectar</td>\n",
       "      <td>[Apple]</td>\n",
       "      <td>$3.39</td>\n",
       "    </tr>\n",
       "    <tr>\n",
       "      <th>3</th>\n",
       "      <td>1</td>\n",
       "      <td>1</td>\n",
       "      <td>Chips and Tomatillo-Green Chili Salsa</td>\n",
       "      <td>NaN</td>\n",
       "      <td>$2.39</td>\n",
       "    </tr>\n",
       "    <tr>\n",
       "      <th>4</th>\n",
       "      <td>2</td>\n",
       "      <td>2</td>\n",
       "      <td>Chicken Bowl</td>\n",
       "      <td>[Tomatillo-Red Chili Salsa (Hot), [Black Beans...</td>\n",
       "      <td>$16.98</td>\n",
       "    </tr>\n",
       "  </tbody>\n",
       "</table>\n",
       "</div>"
      ],
      "text/plain": [
       "   order_id  quantity                              item_name  \\\n",
       "0         1         1           Chips and Fresh Tomato Salsa   \n",
       "1         1         1                                   Izze   \n",
       "2         1         1                       Nantucket Nectar   \n",
       "3         1         1  Chips and Tomatillo-Green Chili Salsa   \n",
       "4         2         2                           Chicken Bowl   \n",
       "\n",
       "                                  choice_description item_price  \n",
       "0                                                NaN     $2.39   \n",
       "1                                       [Clementine]     $3.39   \n",
       "2                                            [Apple]     $3.39   \n",
       "3                                                NaN     $2.39   \n",
       "4  [Tomatillo-Red Chili Salsa (Hot), [Black Beans...    $16.98   "
      ]
     },
     "execution_count": 4,
     "metadata": {},
     "output_type": "execute_result"
    }
   ],
   "source": [
    "df.head(5)"
   ]
  },
  {
   "cell_type": "code",
   "execution_count": 5,
   "id": "19c18f83",
   "metadata": {},
   "outputs": [
    {
     "data": {
      "text/plain": [
       "(4622, 5)"
      ]
     },
     "execution_count": 5,
     "metadata": {},
     "output_type": "execute_result"
    }
   ],
   "source": [
    "df.shape"
   ]
  },
  {
   "cell_type": "code",
   "execution_count": 6,
   "id": "497a37f8",
   "metadata": {},
   "outputs": [
    {
     "name": "stdout",
     "output_type": "stream",
     "text": [
      "<class 'pandas.core.frame.DataFrame'>\n",
      "RangeIndex: 4622 entries, 0 to 4621\n",
      "Data columns (total 5 columns):\n",
      " #   Column              Non-Null Count  Dtype \n",
      "---  ------              --------------  ----- \n",
      " 0   order_id            4622 non-null   int64 \n",
      " 1   quantity            4622 non-null   int64 \n",
      " 2   item_name           4622 non-null   object\n",
      " 3   choice_description  3376 non-null   object\n",
      " 4   item_price          4622 non-null   object\n",
      "dtypes: int64(2), object(3)\n",
      "memory usage: 180.7+ KB\n"
     ]
    }
   ],
   "source": [
    "df.info()"
   ]
  },
  {
   "cell_type": "code",
   "execution_count": 7,
   "id": "7f6c1b18",
   "metadata": {},
   "outputs": [
    {
     "data": {
      "text/plain": [
       "Index(['order_id', 'quantity', 'item_name', 'choice_description',\n",
       "       'item_price'],\n",
       "      dtype='object')"
      ]
     },
     "execution_count": 7,
     "metadata": {},
     "output_type": "execute_result"
    }
   ],
   "source": [
    "df.columns"
   ]
  },
  {
   "cell_type": "code",
   "execution_count": 8,
   "id": "579293c8",
   "metadata": {},
   "outputs": [
    {
     "data": {
      "text/plain": [
       "['order_id', 'quantity', 'item_name', 'choice_description', 'item_price']"
      ]
     },
     "execution_count": 8,
     "metadata": {},
     "output_type": "execute_result"
    }
   ],
   "source": [
    "list(df.columns)"
   ]
  },
  {
   "cell_type": "code",
   "execution_count": 9,
   "id": "a8003af5",
   "metadata": {},
   "outputs": [
    {
     "data": {
      "text/plain": [
       "RangeIndex(start=0, stop=4622, step=1)"
      ]
     },
     "execution_count": 9,
     "metadata": {},
     "output_type": "execute_result"
    }
   ],
   "source": [
    "df.index"
   ]
  },
  {
   "cell_type": "code",
   "execution_count": 10,
   "id": "c8ce73b5",
   "metadata": {},
   "outputs": [
    {
     "data": {
      "text/html": [
       "<div>\n",
       "<style scoped>\n",
       "    .dataframe tbody tr th:only-of-type {\n",
       "        vertical-align: middle;\n",
       "    }\n",
       "\n",
       "    .dataframe tbody tr th {\n",
       "        vertical-align: top;\n",
       "    }\n",
       "\n",
       "    .dataframe thead th {\n",
       "        text-align: right;\n",
       "    }\n",
       "</style>\n",
       "<table border=\"1\" class=\"dataframe\">\n",
       "  <thead>\n",
       "    <tr style=\"text-align: right;\">\n",
       "      <th></th>\n",
       "      <th>order_id</th>\n",
       "      <th>quantity</th>\n",
       "    </tr>\n",
       "  </thead>\n",
       "  <tbody>\n",
       "    <tr>\n",
       "      <th>count</th>\n",
       "      <td>4622.000000</td>\n",
       "      <td>4622.000000</td>\n",
       "    </tr>\n",
       "    <tr>\n",
       "      <th>mean</th>\n",
       "      <td>927.254868</td>\n",
       "      <td>1.075725</td>\n",
       "    </tr>\n",
       "    <tr>\n",
       "      <th>std</th>\n",
       "      <td>528.890796</td>\n",
       "      <td>0.410186</td>\n",
       "    </tr>\n",
       "    <tr>\n",
       "      <th>min</th>\n",
       "      <td>1.000000</td>\n",
       "      <td>1.000000</td>\n",
       "    </tr>\n",
       "    <tr>\n",
       "      <th>25%</th>\n",
       "      <td>477.250000</td>\n",
       "      <td>1.000000</td>\n",
       "    </tr>\n",
       "    <tr>\n",
       "      <th>50%</th>\n",
       "      <td>926.000000</td>\n",
       "      <td>1.000000</td>\n",
       "    </tr>\n",
       "    <tr>\n",
       "      <th>75%</th>\n",
       "      <td>1393.000000</td>\n",
       "      <td>1.000000</td>\n",
       "    </tr>\n",
       "    <tr>\n",
       "      <th>max</th>\n",
       "      <td>1834.000000</td>\n",
       "      <td>15.000000</td>\n",
       "    </tr>\n",
       "  </tbody>\n",
       "</table>\n",
       "</div>"
      ],
      "text/plain": [
       "          order_id     quantity\n",
       "count  4622.000000  4622.000000\n",
       "mean    927.254868     1.075725\n",
       "std     528.890796     0.410186\n",
       "min       1.000000     1.000000\n",
       "25%     477.250000     1.000000\n",
       "50%     926.000000     1.000000\n",
       "75%    1393.000000     1.000000\n",
       "max    1834.000000    15.000000"
      ]
     },
     "execution_count": 10,
     "metadata": {},
     "output_type": "execute_result"
    }
   ],
   "source": [
    "df.describe()"
   ]
  },
  {
   "cell_type": "code",
   "execution_count": 11,
   "id": "17f57aca",
   "metadata": {},
   "outputs": [
    {
     "data": {
      "text/html": [
       "<div>\n",
       "<style scoped>\n",
       "    .dataframe tbody tr th:only-of-type {\n",
       "        vertical-align: middle;\n",
       "    }\n",
       "\n",
       "    .dataframe tbody tr th {\n",
       "        vertical-align: top;\n",
       "    }\n",
       "\n",
       "    .dataframe thead th {\n",
       "        text-align: right;\n",
       "    }\n",
       "</style>\n",
       "<table border=\"1\" class=\"dataframe\">\n",
       "  <thead>\n",
       "    <tr style=\"text-align: right;\">\n",
       "      <th></th>\n",
       "      <th>order_id</th>\n",
       "      <th>quantity</th>\n",
       "      <th>item_name</th>\n",
       "      <th>choice_description</th>\n",
       "      <th>item_price</th>\n",
       "    </tr>\n",
       "  </thead>\n",
       "  <tbody>\n",
       "    <tr>\n",
       "      <th>count</th>\n",
       "      <td>4622.000000</td>\n",
       "      <td>4622.000000</td>\n",
       "      <td>4622</td>\n",
       "      <td>3376</td>\n",
       "      <td>4622</td>\n",
       "    </tr>\n",
       "    <tr>\n",
       "      <th>unique</th>\n",
       "      <td>NaN</td>\n",
       "      <td>NaN</td>\n",
       "      <td>50</td>\n",
       "      <td>1043</td>\n",
       "      <td>78</td>\n",
       "    </tr>\n",
       "    <tr>\n",
       "      <th>top</th>\n",
       "      <td>NaN</td>\n",
       "      <td>NaN</td>\n",
       "      <td>Chicken Bowl</td>\n",
       "      <td>[Diet Coke]</td>\n",
       "      <td>$8.75</td>\n",
       "    </tr>\n",
       "    <tr>\n",
       "      <th>freq</th>\n",
       "      <td>NaN</td>\n",
       "      <td>NaN</td>\n",
       "      <td>726</td>\n",
       "      <td>134</td>\n",
       "      <td>730</td>\n",
       "    </tr>\n",
       "    <tr>\n",
       "      <th>mean</th>\n",
       "      <td>927.254868</td>\n",
       "      <td>1.075725</td>\n",
       "      <td>NaN</td>\n",
       "      <td>NaN</td>\n",
       "      <td>NaN</td>\n",
       "    </tr>\n",
       "    <tr>\n",
       "      <th>std</th>\n",
       "      <td>528.890796</td>\n",
       "      <td>0.410186</td>\n",
       "      <td>NaN</td>\n",
       "      <td>NaN</td>\n",
       "      <td>NaN</td>\n",
       "    </tr>\n",
       "    <tr>\n",
       "      <th>min</th>\n",
       "      <td>1.000000</td>\n",
       "      <td>1.000000</td>\n",
       "      <td>NaN</td>\n",
       "      <td>NaN</td>\n",
       "      <td>NaN</td>\n",
       "    </tr>\n",
       "    <tr>\n",
       "      <th>25%</th>\n",
       "      <td>477.250000</td>\n",
       "      <td>1.000000</td>\n",
       "      <td>NaN</td>\n",
       "      <td>NaN</td>\n",
       "      <td>NaN</td>\n",
       "    </tr>\n",
       "    <tr>\n",
       "      <th>50%</th>\n",
       "      <td>926.000000</td>\n",
       "      <td>1.000000</td>\n",
       "      <td>NaN</td>\n",
       "      <td>NaN</td>\n",
       "      <td>NaN</td>\n",
       "    </tr>\n",
       "    <tr>\n",
       "      <th>75%</th>\n",
       "      <td>1393.000000</td>\n",
       "      <td>1.000000</td>\n",
       "      <td>NaN</td>\n",
       "      <td>NaN</td>\n",
       "      <td>NaN</td>\n",
       "    </tr>\n",
       "    <tr>\n",
       "      <th>max</th>\n",
       "      <td>1834.000000</td>\n",
       "      <td>15.000000</td>\n",
       "      <td>NaN</td>\n",
       "      <td>NaN</td>\n",
       "      <td>NaN</td>\n",
       "    </tr>\n",
       "  </tbody>\n",
       "</table>\n",
       "</div>"
      ],
      "text/plain": [
       "           order_id     quantity     item_name choice_description item_price\n",
       "count   4622.000000  4622.000000          4622               3376       4622\n",
       "unique          NaN          NaN            50               1043         78\n",
       "top             NaN          NaN  Chicken Bowl        [Diet Coke]     $8.75 \n",
       "freq            NaN          NaN           726                134        730\n",
       "mean     927.254868     1.075725           NaN                NaN        NaN\n",
       "std      528.890796     0.410186           NaN                NaN        NaN\n",
       "min        1.000000     1.000000           NaN                NaN        NaN\n",
       "25%      477.250000     1.000000           NaN                NaN        NaN\n",
       "50%      926.000000     1.000000           NaN                NaN        NaN\n",
       "75%     1393.000000     1.000000           NaN                NaN        NaN\n",
       "max     1834.000000    15.000000           NaN                NaN        NaN"
      ]
     },
     "execution_count": 11,
     "metadata": {},
     "output_type": "execute_result"
    }
   ],
   "source": [
    "df.describe(include='all')"
   ]
  },
  {
   "cell_type": "markdown",
   "id": "2a79c948",
   "metadata": {},
   "source": [
    "## step 2 loc vs iloc"
   ]
  },
  {
   "cell_type": "code",
   "execution_count": 12,
   "id": "0b106e13",
   "metadata": {},
   "outputs": [
    {
     "data": {
      "text/html": [
       "<div>\n",
       "<style scoped>\n",
       "    .dataframe tbody tr th:only-of-type {\n",
       "        vertical-align: middle;\n",
       "    }\n",
       "\n",
       "    .dataframe tbody tr th {\n",
       "        vertical-align: top;\n",
       "    }\n",
       "\n",
       "    .dataframe thead th {\n",
       "        text-align: right;\n",
       "    }\n",
       "</style>\n",
       "<table border=\"1\" class=\"dataframe\">\n",
       "  <thead>\n",
       "    <tr style=\"text-align: right;\">\n",
       "      <th></th>\n",
       "      <th>order_id</th>\n",
       "      <th>quantity</th>\n",
       "      <th>item_name</th>\n",
       "      <th>choice_description</th>\n",
       "      <th>item_price</th>\n",
       "    </tr>\n",
       "  </thead>\n",
       "  <tbody>\n",
       "    <tr>\n",
       "      <th>0</th>\n",
       "      <td>1</td>\n",
       "      <td>1</td>\n",
       "      <td>Chips and Fresh Tomato Salsa</td>\n",
       "      <td>NaN</td>\n",
       "      <td>$2.39</td>\n",
       "    </tr>\n",
       "    <tr>\n",
       "      <th>1</th>\n",
       "      <td>1</td>\n",
       "      <td>1</td>\n",
       "      <td>Izze</td>\n",
       "      <td>[Clementine]</td>\n",
       "      <td>$3.39</td>\n",
       "    </tr>\n",
       "    <tr>\n",
       "      <th>2</th>\n",
       "      <td>1</td>\n",
       "      <td>1</td>\n",
       "      <td>Nantucket Nectar</td>\n",
       "      <td>[Apple]</td>\n",
       "      <td>$3.39</td>\n",
       "    </tr>\n",
       "    <tr>\n",
       "      <th>3</th>\n",
       "      <td>1</td>\n",
       "      <td>1</td>\n",
       "      <td>Chips and Tomatillo-Green Chili Salsa</td>\n",
       "      <td>NaN</td>\n",
       "      <td>$2.39</td>\n",
       "    </tr>\n",
       "    <tr>\n",
       "      <th>4</th>\n",
       "      <td>2</td>\n",
       "      <td>2</td>\n",
       "      <td>Chicken Bowl</td>\n",
       "      <td>[Tomatillo-Red Chili Salsa (Hot), [Black Beans...</td>\n",
       "      <td>$16.98</td>\n",
       "    </tr>\n",
       "  </tbody>\n",
       "</table>\n",
       "</div>"
      ],
      "text/plain": [
       "   order_id  quantity                              item_name  \\\n",
       "0         1         1           Chips and Fresh Tomato Salsa   \n",
       "1         1         1                                   Izze   \n",
       "2         1         1                       Nantucket Nectar   \n",
       "3         1         1  Chips and Tomatillo-Green Chili Salsa   \n",
       "4         2         2                           Chicken Bowl   \n",
       "\n",
       "                                  choice_description item_price  \n",
       "0                                                NaN     $2.39   \n",
       "1                                       [Clementine]     $3.39   \n",
       "2                                            [Apple]     $3.39   \n",
       "3                                                NaN     $2.39   \n",
       "4  [Tomatillo-Red Chili Salsa (Hot), [Black Beans...    $16.98   "
      ]
     },
     "execution_count": 12,
     "metadata": {},
     "output_type": "execute_result"
    }
   ],
   "source": [
    "df.head()"
   ]
  },
  {
   "cell_type": "code",
   "execution_count": 13,
   "id": "96e86d63",
   "metadata": {},
   "outputs": [
    {
     "data": {
      "text/html": [
       "<div>\n",
       "<style scoped>\n",
       "    .dataframe tbody tr th:only-of-type {\n",
       "        vertical-align: middle;\n",
       "    }\n",
       "\n",
       "    .dataframe tbody tr th {\n",
       "        vertical-align: top;\n",
       "    }\n",
       "\n",
       "    .dataframe thead th {\n",
       "        text-align: right;\n",
       "    }\n",
       "</style>\n",
       "<table border=\"1\" class=\"dataframe\">\n",
       "  <thead>\n",
       "    <tr style=\"text-align: right;\">\n",
       "      <th></th>\n",
       "      <th>order_id</th>\n",
       "      <th>quantity</th>\n",
       "      <th>item_name</th>\n",
       "      <th>choice_description</th>\n",
       "      <th>item_price</th>\n",
       "    </tr>\n",
       "  </thead>\n",
       "  <tbody>\n",
       "    <tr>\n",
       "      <th>3598</th>\n",
       "      <td>1443</td>\n",
       "      <td>15</td>\n",
       "      <td>Chips and Fresh Tomato Salsa</td>\n",
       "      <td>NaN</td>\n",
       "      <td>$44.25</td>\n",
       "    </tr>\n",
       "  </tbody>\n",
       "</table>\n",
       "</div>"
      ],
      "text/plain": [
       "      order_id  quantity                     item_name choice_description  \\\n",
       "3598      1443        15  Chips and Fresh Tomato Salsa                NaN   \n",
       "\n",
       "     item_price  \n",
       "3598    $44.25   "
      ]
     },
     "execution_count": 13,
     "metadata": {},
     "output_type": "execute_result"
    }
   ],
   "source": [
    "df.loc[df.quantity==15]"
   ]
  },
  {
   "cell_type": "code",
   "execution_count": 14,
   "id": "d80c8263",
   "metadata": {},
   "outputs": [
    {
     "data": {
      "text/html": [
       "<div>\n",
       "<style scoped>\n",
       "    .dataframe tbody tr th:only-of-type {\n",
       "        vertical-align: middle;\n",
       "    }\n",
       "\n",
       "    .dataframe tbody tr th {\n",
       "        vertical-align: top;\n",
       "    }\n",
       "\n",
       "    .dataframe thead th {\n",
       "        text-align: right;\n",
       "    }\n",
       "</style>\n",
       "<table border=\"1\" class=\"dataframe\">\n",
       "  <thead>\n",
       "    <tr style=\"text-align: right;\">\n",
       "      <th></th>\n",
       "      <th>order_id</th>\n",
       "      <th>quantity</th>\n",
       "      <th>item_name</th>\n",
       "      <th>choice_description</th>\n",
       "      <th>item_price</th>\n",
       "    </tr>\n",
       "  </thead>\n",
       "  <tbody>\n",
       "    <tr>\n",
       "      <th>2</th>\n",
       "      <td>1</td>\n",
       "      <td>1</td>\n",
       "      <td>Nantucket Nectar</td>\n",
       "      <td>[Apple]</td>\n",
       "      <td>$3.39</td>\n",
       "    </tr>\n",
       "    <tr>\n",
       "      <th>22</th>\n",
       "      <td>11</td>\n",
       "      <td>1</td>\n",
       "      <td>Nantucket Nectar</td>\n",
       "      <td>[Pomegranate Cherry]</td>\n",
       "      <td>$3.39</td>\n",
       "    </tr>\n",
       "    <tr>\n",
       "      <th>105</th>\n",
       "      <td>46</td>\n",
       "      <td>1</td>\n",
       "      <td>Nantucket Nectar</td>\n",
       "      <td>[Pineapple Orange Banana]</td>\n",
       "      <td>$3.39</td>\n",
       "    </tr>\n",
       "    <tr>\n",
       "      <th>173</th>\n",
       "      <td>77</td>\n",
       "      <td>1</td>\n",
       "      <td>Nantucket Nectar</td>\n",
       "      <td>[Apple]</td>\n",
       "      <td>$3.39</td>\n",
       "    </tr>\n",
       "    <tr>\n",
       "      <th>205</th>\n",
       "      <td>91</td>\n",
       "      <td>1</td>\n",
       "      <td>Nantucket Nectar</td>\n",
       "      <td>[Peach Orange]</td>\n",
       "      <td>$3.39</td>\n",
       "    </tr>\n",
       "    <tr>\n",
       "      <th>436</th>\n",
       "      <td>189</td>\n",
       "      <td>1</td>\n",
       "      <td>Nantucket Nectar</td>\n",
       "      <td>[Pomegranate Cherry]</td>\n",
       "      <td>$3.39</td>\n",
       "    </tr>\n",
       "    <tr>\n",
       "      <th>601</th>\n",
       "      <td>247</td>\n",
       "      <td>2</td>\n",
       "      <td>Nantucket Nectar</td>\n",
       "      <td>[Pineapple Orange Banana]</td>\n",
       "      <td>$6.78</td>\n",
       "    </tr>\n",
       "    <tr>\n",
       "      <th>925</th>\n",
       "      <td>381</td>\n",
       "      <td>1</td>\n",
       "      <td>Nantucket Nectar</td>\n",
       "      <td>[Pomegranate Cherry]</td>\n",
       "      <td>$3.39</td>\n",
       "    </tr>\n",
       "    <tr>\n",
       "      <th>1356</th>\n",
       "      <td>553</td>\n",
       "      <td>1</td>\n",
       "      <td>Nantucket Nectar</td>\n",
       "      <td>[Pomegranate Cherry]</td>\n",
       "      <td>$3.39</td>\n",
       "    </tr>\n",
       "    <tr>\n",
       "      <th>1585</th>\n",
       "      <td>641</td>\n",
       "      <td>1</td>\n",
       "      <td>Nantucket Nectar</td>\n",
       "      <td>[Peach Orange]</td>\n",
       "      <td>$3.39</td>\n",
       "    </tr>\n",
       "    <tr>\n",
       "      <th>1626</th>\n",
       "      <td>656</td>\n",
       "      <td>1</td>\n",
       "      <td>Nantucket Nectar</td>\n",
       "      <td>[Pineapple Orange Banana]</td>\n",
       "      <td>$3.39</td>\n",
       "    </tr>\n",
       "    <tr>\n",
       "      <th>1706</th>\n",
       "      <td>690</td>\n",
       "      <td>1</td>\n",
       "      <td>Nantucket Nectar</td>\n",
       "      <td>[Apple]</td>\n",
       "      <td>$3.39</td>\n",
       "    </tr>\n",
       "    <tr>\n",
       "      <th>2162</th>\n",
       "      <td>872</td>\n",
       "      <td>1</td>\n",
       "      <td>Nantucket Nectar</td>\n",
       "      <td>[Pineapple Orange Banana]</td>\n",
       "      <td>$3.39</td>\n",
       "    </tr>\n",
       "    <tr>\n",
       "      <th>2379</th>\n",
       "      <td>947</td>\n",
       "      <td>2</td>\n",
       "      <td>Nantucket Nectar</td>\n",
       "      <td>[Peach Orange]</td>\n",
       "      <td>$6.78</td>\n",
       "    </tr>\n",
       "    <tr>\n",
       "      <th>2381</th>\n",
       "      <td>947</td>\n",
       "      <td>1</td>\n",
       "      <td>Nantucket Nectar</td>\n",
       "      <td>[Apple]</td>\n",
       "      <td>$3.39</td>\n",
       "    </tr>\n",
       "    <tr>\n",
       "      <th>2430</th>\n",
       "      <td>965</td>\n",
       "      <td>1</td>\n",
       "      <td>Nantucket Nectar</td>\n",
       "      <td>[Pomegranate Cherry]</td>\n",
       "      <td>$3.39</td>\n",
       "    </tr>\n",
       "    <tr>\n",
       "      <th>2653</th>\n",
       "      <td>1053</td>\n",
       "      <td>1</td>\n",
       "      <td>Nantucket Nectar</td>\n",
       "      <td>[Pineapple Orange Banana]</td>\n",
       "      <td>$3.39</td>\n",
       "    </tr>\n",
       "    <tr>\n",
       "      <th>2818</th>\n",
       "      <td>1118</td>\n",
       "      <td>1</td>\n",
       "      <td>Nantucket Nectar</td>\n",
       "      <td>[Apple]</td>\n",
       "      <td>$3.39</td>\n",
       "    </tr>\n",
       "    <tr>\n",
       "      <th>2838</th>\n",
       "      <td>1128</td>\n",
       "      <td>1</td>\n",
       "      <td>Nantucket Nectar</td>\n",
       "      <td>[Peach Orange]</td>\n",
       "      <td>$3.39</td>\n",
       "    </tr>\n",
       "    <tr>\n",
       "      <th>2853</th>\n",
       "      <td>1133</td>\n",
       "      <td>1</td>\n",
       "      <td>Nantucket Nectar</td>\n",
       "      <td>[Apple]</td>\n",
       "      <td>$3.39</td>\n",
       "    </tr>\n",
       "    <tr>\n",
       "      <th>2949</th>\n",
       "      <td>1172</td>\n",
       "      <td>1</td>\n",
       "      <td>Nantucket Nectar</td>\n",
       "      <td>[Peach Orange]</td>\n",
       "      <td>$3.39</td>\n",
       "    </tr>\n",
       "    <tr>\n",
       "      <th>3318</th>\n",
       "      <td>1330</td>\n",
       "      <td>1</td>\n",
       "      <td>Nantucket Nectar</td>\n",
       "      <td>[Peach Orange]</td>\n",
       "      <td>$3.39</td>\n",
       "    </tr>\n",
       "    <tr>\n",
       "      <th>3368</th>\n",
       "      <td>1351</td>\n",
       "      <td>1</td>\n",
       "      <td>Nantucket Nectar</td>\n",
       "      <td>[Pineapple Orange Banana]</td>\n",
       "      <td>$3.39</td>\n",
       "    </tr>\n",
       "    <tr>\n",
       "      <th>3570</th>\n",
       "      <td>1433</td>\n",
       "      <td>1</td>\n",
       "      <td>Nantucket Nectar</td>\n",
       "      <td>[Pineapple Orange Banana]</td>\n",
       "      <td>$3.39</td>\n",
       "    </tr>\n",
       "    <tr>\n",
       "      <th>3598</th>\n",
       "      <td>1443</td>\n",
       "      <td>15</td>\n",
       "      <td>Chips and Fresh Tomato Salsa</td>\n",
       "      <td>NaN</td>\n",
       "      <td>$44.25</td>\n",
       "    </tr>\n",
       "    <tr>\n",
       "      <th>3845</th>\n",
       "      <td>1541</td>\n",
       "      <td>1</td>\n",
       "      <td>Nantucket Nectar</td>\n",
       "      <td>[Peach Orange]</td>\n",
       "      <td>$3.39</td>\n",
       "    </tr>\n",
       "    <tr>\n",
       "      <th>4019</th>\n",
       "      <td>1609</td>\n",
       "      <td>1</td>\n",
       "      <td>Nantucket Nectar</td>\n",
       "      <td>[Pineapple Orange Banana]</td>\n",
       "      <td>$3.39</td>\n",
       "    </tr>\n",
       "    <tr>\n",
       "      <th>4078</th>\n",
       "      <td>1632</td>\n",
       "      <td>1</td>\n",
       "      <td>Nantucket Nectar</td>\n",
       "      <td>[Peach Orange]</td>\n",
       "      <td>$3.39</td>\n",
       "    </tr>\n",
       "  </tbody>\n",
       "</table>\n",
       "</div>"
      ],
      "text/plain": [
       "      order_id  quantity                     item_name  \\\n",
       "2            1         1              Nantucket Nectar   \n",
       "22          11         1              Nantucket Nectar   \n",
       "105         46         1              Nantucket Nectar   \n",
       "173         77         1              Nantucket Nectar   \n",
       "205         91         1              Nantucket Nectar   \n",
       "436        189         1              Nantucket Nectar   \n",
       "601        247         2              Nantucket Nectar   \n",
       "925        381         1              Nantucket Nectar   \n",
       "1356       553         1              Nantucket Nectar   \n",
       "1585       641         1              Nantucket Nectar   \n",
       "1626       656         1              Nantucket Nectar   \n",
       "1706       690         1              Nantucket Nectar   \n",
       "2162       872         1              Nantucket Nectar   \n",
       "2379       947         2              Nantucket Nectar   \n",
       "2381       947         1              Nantucket Nectar   \n",
       "2430       965         1              Nantucket Nectar   \n",
       "2653      1053         1              Nantucket Nectar   \n",
       "2818      1118         1              Nantucket Nectar   \n",
       "2838      1128         1              Nantucket Nectar   \n",
       "2853      1133         1              Nantucket Nectar   \n",
       "2949      1172         1              Nantucket Nectar   \n",
       "3318      1330         1              Nantucket Nectar   \n",
       "3368      1351         1              Nantucket Nectar   \n",
       "3570      1433         1              Nantucket Nectar   \n",
       "3598      1443        15  Chips and Fresh Tomato Salsa   \n",
       "3845      1541         1              Nantucket Nectar   \n",
       "4019      1609         1              Nantucket Nectar   \n",
       "4078      1632         1              Nantucket Nectar   \n",
       "\n",
       "             choice_description item_price  \n",
       "2                       [Apple]     $3.39   \n",
       "22         [Pomegranate Cherry]     $3.39   \n",
       "105   [Pineapple Orange Banana]     $3.39   \n",
       "173                     [Apple]     $3.39   \n",
       "205              [Peach Orange]     $3.39   \n",
       "436        [Pomegranate Cherry]     $3.39   \n",
       "601   [Pineapple Orange Banana]     $6.78   \n",
       "925        [Pomegranate Cherry]     $3.39   \n",
       "1356       [Pomegranate Cherry]     $3.39   \n",
       "1585             [Peach Orange]     $3.39   \n",
       "1626  [Pineapple Orange Banana]     $3.39   \n",
       "1706                    [Apple]     $3.39   \n",
       "2162  [Pineapple Orange Banana]     $3.39   \n",
       "2379             [Peach Orange]     $6.78   \n",
       "2381                    [Apple]     $3.39   \n",
       "2430       [Pomegranate Cherry]     $3.39   \n",
       "2653  [Pineapple Orange Banana]     $3.39   \n",
       "2818                    [Apple]     $3.39   \n",
       "2838             [Peach Orange]     $3.39   \n",
       "2853                    [Apple]     $3.39   \n",
       "2949             [Peach Orange]     $3.39   \n",
       "3318             [Peach Orange]     $3.39   \n",
       "3368  [Pineapple Orange Banana]     $3.39   \n",
       "3570  [Pineapple Orange Banana]     $3.39   \n",
       "3598                        NaN    $44.25   \n",
       "3845             [Peach Orange]     $3.39   \n",
       "4019  [Pineapple Orange Banana]     $3.39   \n",
       "4078             [Peach Orange]     $3.39   "
      ]
     },
     "execution_count": 14,
     "metadata": {},
     "output_type": "execute_result"
    }
   ],
   "source": [
    "df.loc[(df.quantity==15) | (df.item_name==\"Nantucket Nectar\")]"
   ]
  },
  {
   "cell_type": "code",
   "execution_count": 15,
   "id": "2cfc8bc2",
   "metadata": {
    "tags": []
   },
   "outputs": [
    {
     "data": {
      "text/html": [
       "<div>\n",
       "<style scoped>\n",
       "    .dataframe tbody tr th:only-of-type {\n",
       "        vertical-align: middle;\n",
       "    }\n",
       "\n",
       "    .dataframe tbody tr th {\n",
       "        vertical-align: top;\n",
       "    }\n",
       "\n",
       "    .dataframe thead th {\n",
       "        text-align: right;\n",
       "    }\n",
       "</style>\n",
       "<table border=\"1\" class=\"dataframe\">\n",
       "  <thead>\n",
       "    <tr style=\"text-align: right;\">\n",
       "      <th></th>\n",
       "      <th>order_id</th>\n",
       "      <th>quantity</th>\n",
       "      <th>item_name</th>\n",
       "      <th>choice_description</th>\n",
       "      <th>item_price</th>\n",
       "    </tr>\n",
       "  </thead>\n",
       "  <tbody>\n",
       "    <tr>\n",
       "      <th>601</th>\n",
       "      <td>247</td>\n",
       "      <td>2</td>\n",
       "      <td>Nantucket Nectar</td>\n",
       "      <td>[Pineapple Orange Banana]</td>\n",
       "      <td>$6.78</td>\n",
       "    </tr>\n",
       "    <tr>\n",
       "      <th>2379</th>\n",
       "      <td>947</td>\n",
       "      <td>2</td>\n",
       "      <td>Nantucket Nectar</td>\n",
       "      <td>[Peach Orange]</td>\n",
       "      <td>$6.78</td>\n",
       "    </tr>\n",
       "  </tbody>\n",
       "</table>\n",
       "</div>"
      ],
      "text/plain": [
       "      order_id  quantity         item_name         choice_description  \\\n",
       "601        247         2  Nantucket Nectar  [Pineapple Orange Banana]   \n",
       "2379       947         2  Nantucket Nectar             [Peach Orange]   \n",
       "\n",
       "     item_price  \n",
       "601      $6.78   \n",
       "2379     $6.78   "
      ]
     },
     "execution_count": 15,
     "metadata": {},
     "output_type": "execute_result"
    }
   ],
   "source": [
    "df.loc[(df.quantity==2)&(df.item_name==\"Nantucket Nectar\")]"
   ]
  },
  {
   "cell_type": "code",
   "execution_count": 16,
   "id": "2b42b4dc-c6db-44ee-ae06-1422cc6499ae",
   "metadata": {
    "tags": []
   },
   "outputs": [
    {
     "name": "stdout",
     "output_type": "stream",
     "text": [
      "Requirement already satisfied: jupyterlab-kite>=2.0.2 in c:\\users\\dttrung\\appdata\\local\\programs\\python\\python38\\lib\\site-packages (2.0.2)\n",
      "Requirement already satisfied: jupyter_kite>=2.0.0 in c:\\users\\dttrung\\appdata\\local\\programs\\python\\python38\\lib\\site-packages (from jupyterlab-kite>=2.0.2) (2.0.2)\n",
      "Requirement already satisfied: jupyterlab<4.0.0a0,>=3.0.0 in c:\\users\\dttrung\\appdata\\local\\programs\\python\\python38\\lib\\site-packages (from jupyterlab-kite>=2.0.2) (3.6.1)\n",
      "Requirement already satisfied: tornado>=5.1.0 in c:\\users\\dttrung\\appdata\\roaming\\python\\python38\\site-packages (from jupyter_kite>=2.0.0->jupyterlab-kite>=2.0.2) (6.2)\n",
      "Requirement already satisfied: jupyter_server>=1.1.2 in c:\\users\\dttrung\\appdata\\local\\programs\\python\\python38\\lib\\site-packages (from jupyter_kite>=2.0.0->jupyterlab-kite>=2.0.2) (1.23.6)\n",
      "Requirement already satisfied: entrypoints in c:\\users\\dttrung\\appdata\\roaming\\python\\python38\\site-packages (from jupyter_kite>=2.0.0->jupyterlab-kite>=2.0.2) (0.4)\n",
      "Requirement already satisfied: jinja2>=2.1 in c:\\users\\dttrung\\appdata\\local\\programs\\python\\python38\\lib\\site-packages (from jupyterlab<4.0.0a0,>=3.0.0->jupyterlab-kite>=2.0.2) (3.1.2)\n",
      "Requirement already satisfied: jupyterlab-server~=2.19 in c:\\users\\dttrung\\appdata\\local\\programs\\python\\python38\\lib\\site-packages (from jupyterlab<4.0.0a0,>=3.0.0->jupyterlab-kite>=2.0.2) (2.20.0)\n",
      "Requirement already satisfied: packaging in c:\\users\\dttrung\\appdata\\roaming\\python\\python38\\site-packages (from jupyterlab<4.0.0a0,>=3.0.0->jupyterlab-kite>=2.0.2) (21.3)\n",
      "Requirement already satisfied: jupyter-core in c:\\users\\dttrung\\appdata\\local\\programs\\python\\python38\\lib\\site-packages (from jupyterlab<4.0.0a0,>=3.0.0->jupyterlab-kite>=2.0.2) (5.3.0)\n",
      "Requirement already satisfied: nbclassic in c:\\users\\dttrung\\appdata\\local\\programs\\python\\python38\\lib\\site-packages (from jupyterlab<4.0.0a0,>=3.0.0->jupyterlab-kite>=2.0.2) (0.5.3)\n",
      "Requirement already satisfied: notebook<7 in c:\\users\\dttrung\\appdata\\local\\programs\\python\\python38\\lib\\site-packages (from jupyterlab<4.0.0a0,>=3.0.0->jupyterlab-kite>=2.0.2) (6.5.3)\n",
      "Requirement already satisfied: tomli in c:\\users\\dttrung\\appdata\\local\\programs\\python\\python38\\lib\\site-packages (from jupyterlab<4.0.0a0,>=3.0.0->jupyterlab-kite>=2.0.2) (2.0.1)\n",
      "Requirement already satisfied: jupyter-ydoc~=0.2.2 in c:\\users\\dttrung\\appdata\\local\\programs\\python\\python38\\lib\\site-packages (from jupyterlab<4.0.0a0,>=3.0.0->jupyterlab-kite>=2.0.2) (0.2.3)\n",
      "Requirement already satisfied: jupyter-server-ydoc<0.7.0,>=0.6.0 in c:\\users\\dttrung\\appdata\\local\\programs\\python\\python38\\lib\\site-packages (from jupyterlab<4.0.0a0,>=3.0.0->jupyterlab-kite>=2.0.2) (0.6.1)\n",
      "Requirement already satisfied: ipython in c:\\users\\dttrung\\appdata\\roaming\\python\\python38\\site-packages (from jupyterlab<4.0.0a0,>=3.0.0->jupyterlab-kite>=2.0.2) (8.4.0)\n",
      "Requirement already satisfied: MarkupSafe>=2.0 in c:\\users\\dttrung\\appdata\\local\\programs\\python\\python38\\lib\\site-packages (from jinja2>=2.1->jupyterlab<4.0.0a0,>=3.0.0->jupyterlab-kite>=2.0.2) (2.1.2)\n",
      "Requirement already satisfied: argon2-cffi in c:\\users\\dttrung\\appdata\\local\\programs\\python\\python38\\lib\\site-packages (from jupyter_server>=1.1.2->jupyter_kite>=2.0.0->jupyterlab-kite>=2.0.2) (21.3.0)\n",
      "Requirement already satisfied: pywinpty in c:\\users\\dttrung\\appdata\\local\\programs\\python\\python38\\lib\\site-packages (from jupyter_server>=1.1.2->jupyter_kite>=2.0.0->jupyterlab-kite>=2.0.2) (2.0.10)\n",
      "Requirement already satisfied: nbformat>=5.2.0 in c:\\users\\dttrung\\appdata\\local\\programs\\python\\python38\\lib\\site-packages (from jupyter_server>=1.1.2->jupyter_kite>=2.0.0->jupyterlab-kite>=2.0.2) (5.7.3)\n",
      "Requirement already satisfied: jupyter-client>=6.1.12 in c:\\users\\dttrung\\appdata\\local\\programs\\python\\python38\\lib\\site-packages (from jupyter_server>=1.1.2->jupyter_kite>=2.0.0->jupyterlab-kite>=2.0.2) (8.0.3)\n",
      "Requirement already satisfied: traitlets>=5.1 in c:\\users\\dttrung\\appdata\\local\\programs\\python\\python38\\lib\\site-packages (from jupyter_server>=1.1.2->jupyter_kite>=2.0.0->jupyterlab-kite>=2.0.2) (5.9.0)\n",
      "Requirement already satisfied: terminado>=0.8.3 in c:\\users\\dttrung\\appdata\\local\\programs\\python\\python38\\lib\\site-packages (from jupyter_server>=1.1.2->jupyter_kite>=2.0.0->jupyterlab-kite>=2.0.2) (0.17.1)\n",
      "Requirement already satisfied: nbconvert>=6.4.4 in c:\\users\\dttrung\\appdata\\local\\programs\\python\\python38\\lib\\site-packages (from jupyter_server>=1.1.2->jupyter_kite>=2.0.0->jupyterlab-kite>=2.0.2) (7.2.10)\n",
      "Requirement already satisfied: anyio<4,>=3.1.0 in c:\\users\\dttrung\\appdata\\local\\programs\\python\\python38\\lib\\site-packages (from jupyter_server>=1.1.2->jupyter_kite>=2.0.0->jupyterlab-kite>=2.0.2) (3.6.2)\n",
      "Requirement already satisfied: Send2Trash in c:\\users\\dttrung\\appdata\\local\\programs\\python\\python38\\lib\\site-packages (from jupyter_server>=1.1.2->jupyter_kite>=2.0.0->jupyterlab-kite>=2.0.2) (1.8.0)\n",
      "Requirement already satisfied: websocket-client in c:\\users\\dttrung\\appdata\\local\\programs\\python\\python38\\lib\\site-packages (from jupyter_server>=1.1.2->jupyter_kite>=2.0.0->jupyterlab-kite>=2.0.2) (1.5.1)\n",
      "Requirement already satisfied: prometheus-client in c:\\users\\dttrung\\appdata\\local\\programs\\python\\python38\\lib\\site-packages (from jupyter_server>=1.1.2->jupyter_kite>=2.0.0->jupyterlab-kite>=2.0.2) (0.16.0)\n",
      "Requirement already satisfied: pyzmq>=17 in c:\\users\\dttrung\\appdata\\local\\programs\\python\\python38\\lib\\site-packages (from jupyter_server>=1.1.2->jupyter_kite>=2.0.0->jupyterlab-kite>=2.0.2) (25.0.1)\n",
      "Requirement already satisfied: platformdirs>=2.5 in c:\\users\\dttrung\\appdata\\local\\programs\\python\\python38\\lib\\site-packages (from jupyter-core->jupyterlab<4.0.0a0,>=3.0.0->jupyterlab-kite>=2.0.2) (3.1.1)\n",
      "Requirement already satisfied: pywin32>=300 in c:\\users\\dttrung\\appdata\\roaming\\python\\python38\\site-packages (from jupyter-core->jupyterlab<4.0.0a0,>=3.0.0->jupyterlab-kite>=2.0.2) (304)\n",
      "Requirement already satisfied: jupyter-server-fileid<1,>=0.6.0 in c:\\users\\dttrung\\appdata\\local\\programs\\python\\python38\\lib\\site-packages (from jupyter-server-ydoc<0.7.0,>=0.6.0->jupyterlab<4.0.0a0,>=3.0.0->jupyterlab-kite>=2.0.2) (0.8.0)\n",
      "Requirement already satisfied: ypy-websocket<0.9.0,>=0.8.2 in c:\\users\\dttrung\\appdata\\local\\programs\\python\\python38\\lib\\site-packages (from jupyter-server-ydoc<0.7.0,>=0.6.0->jupyterlab<4.0.0a0,>=3.0.0->jupyterlab-kite>=2.0.2) (0.8.2)\n",
      "Requirement already satisfied: importlib-metadata>=3.6 in c:\\users\\dttrung\\appdata\\local\\programs\\python\\python38\\lib\\site-packages (from jupyter-ydoc~=0.2.2->jupyterlab<4.0.0a0,>=3.0.0->jupyterlab-kite>=2.0.2) (6.0.0)\n",
      "Requirement already satisfied: y-py<0.6.0,>=0.5.3 in c:\\users\\dttrung\\appdata\\local\\programs\\python\\python38\\lib\\site-packages (from jupyter-ydoc~=0.2.2->jupyterlab<4.0.0a0,>=3.0.0->jupyterlab-kite>=2.0.2) (0.5.9)\n",
      "Requirement already satisfied: babel>=2.10 in c:\\users\\dttrung\\appdata\\local\\programs\\python\\python38\\lib\\site-packages (from jupyterlab-server~=2.19->jupyterlab<4.0.0a0,>=3.0.0->jupyterlab-kite>=2.0.2) (2.12.1)\n",
      "Requirement already satisfied: json5>=0.9.0 in c:\\users\\dttrung\\appdata\\local\\programs\\python\\python38\\lib\\site-packages (from jupyterlab-server~=2.19->jupyterlab<4.0.0a0,>=3.0.0->jupyterlab-kite>=2.0.2) (0.9.11)\n",
      "Requirement already satisfied: requests>=2.28 in c:\\users\\dttrung\\appdata\\local\\programs\\python\\python38\\lib\\site-packages (from jupyterlab-server~=2.19->jupyterlab<4.0.0a0,>=3.0.0->jupyterlab-kite>=2.0.2) (2.28.1)\n",
      "Requirement already satisfied: jsonschema>=4.17.3 in c:\\users\\dttrung\\appdata\\local\\programs\\python\\python38\\lib\\site-packages (from jupyterlab-server~=2.19->jupyterlab<4.0.0a0,>=3.0.0->jupyterlab-kite>=2.0.2) (4.17.3)\n",
      "Requirement already satisfied: nest-asyncio>=1.5 in c:\\users\\dttrung\\appdata\\roaming\\python\\python38\\site-packages (from notebook<7->jupyterlab<4.0.0a0,>=3.0.0->jupyterlab-kite>=2.0.2) (1.5.5)\n",
      "Requirement already satisfied: ipykernel in c:\\users\\dttrung\\appdata\\roaming\\python\\python38\\site-packages (from notebook<7->jupyterlab<4.0.0a0,>=3.0.0->jupyterlab-kite>=2.0.2) (6.15.2)\n",
      "Requirement already satisfied: ipython-genutils in c:\\users\\dttrung\\appdata\\local\\programs\\python\\python38\\lib\\site-packages (from notebook<7->jupyterlab<4.0.0a0,>=3.0.0->jupyterlab-kite>=2.0.2) (0.2.0)\n",
      "Requirement already satisfied: notebook-shim>=0.1.0 in c:\\users\\dttrung\\appdata\\local\\programs\\python\\python38\\lib\\site-packages (from nbclassic->jupyterlab<4.0.0a0,>=3.0.0->jupyterlab-kite>=2.0.2) (0.2.2)\n",
      "Requirement already satisfied: pyparsing!=3.0.5,>=2.0.2 in c:\\users\\dttrung\\appdata\\roaming\\python\\python38\\site-packages (from packaging->jupyterlab<4.0.0a0,>=3.0.0->jupyterlab-kite>=2.0.2) (3.0.9)\n",
      "Requirement already satisfied: stack-data in c:\\users\\dttrung\\appdata\\roaming\\python\\python38\\site-packages (from ipython->jupyterlab<4.0.0a0,>=3.0.0->jupyterlab-kite>=2.0.2) (0.5.0)\n",
      "Requirement already satisfied: backcall in c:\\users\\dttrung\\appdata\\roaming\\python\\python38\\site-packages (from ipython->jupyterlab<4.0.0a0,>=3.0.0->jupyterlab-kite>=2.0.2) (0.2.0)\n",
      "Requirement already satisfied: pickleshare in c:\\users\\dttrung\\appdata\\roaming\\python\\python38\\site-packages (from ipython->jupyterlab<4.0.0a0,>=3.0.0->jupyterlab-kite>=2.0.2) (0.7.5)\n",
      "Requirement already satisfied: prompt-toolkit!=3.0.0,!=3.0.1,<3.1.0,>=2.0.0 in c:\\users\\dttrung\\appdata\\roaming\\python\\python38\\site-packages (from ipython->jupyterlab<4.0.0a0,>=3.0.0->jupyterlab-kite>=2.0.2) (3.0.31)\n",
      "Requirement already satisfied: matplotlib-inline in c:\\users\\dttrung\\appdata\\roaming\\python\\python38\\site-packages (from ipython->jupyterlab<4.0.0a0,>=3.0.0->jupyterlab-kite>=2.0.2) (0.1.6)\n",
      "Requirement already satisfied: colorama in c:\\users\\dttrung\\appdata\\roaming\\python\\python38\\site-packages (from ipython->jupyterlab<4.0.0a0,>=3.0.0->jupyterlab-kite>=2.0.2) (0.4.5)\n",
      "Requirement already satisfied: pygments>=2.4.0 in c:\\users\\dttrung\\appdata\\roaming\\python\\python38\\site-packages (from ipython->jupyterlab<4.0.0a0,>=3.0.0->jupyterlab-kite>=2.0.2) (2.13.0)\n",
      "Requirement already satisfied: jedi>=0.16 in c:\\users\\dttrung\\appdata\\roaming\\python\\python38\\site-packages (from ipython->jupyterlab<4.0.0a0,>=3.0.0->jupyterlab-kite>=2.0.2) (0.18.1)\n",
      "Requirement already satisfied: decorator in c:\\users\\dttrung\\appdata\\roaming\\python\\python38\\site-packages (from ipython->jupyterlab<4.0.0a0,>=3.0.0->jupyterlab-kite>=2.0.2) (5.1.1)\n",
      "Requirement already satisfied: setuptools>=18.5 in c:\\users\\dttrung\\appdata\\local\\programs\\python\\python38\\lib\\site-packages (from ipython->jupyterlab<4.0.0a0,>=3.0.0->jupyterlab-kite>=2.0.2) (56.0.0)\n",
      "Requirement already satisfied: sniffio>=1.1 in c:\\users\\dttrung\\appdata\\local\\programs\\python\\python38\\lib\\site-packages (from anyio<4,>=3.1.0->jupyter_server>=1.1.2->jupyter_kite>=2.0.0->jupyterlab-kite>=2.0.2) (1.3.0)\n",
      "Requirement already satisfied: idna>=2.8 in c:\\users\\dttrung\\appdata\\local\\programs\\python\\python38\\lib\\site-packages (from anyio<4,>=3.1.0->jupyter_server>=1.1.2->jupyter_kite>=2.0.0->jupyterlab-kite>=2.0.2) (3.3)\n",
      "Requirement already satisfied: pytz>=2015.7 in c:\\users\\dttrung\\appdata\\local\\programs\\python\\python38\\lib\\site-packages (from babel>=2.10->jupyterlab-server~=2.19->jupyterlab<4.0.0a0,>=3.0.0->jupyterlab-kite>=2.0.2) (2022.2.1)\n",
      "Requirement already satisfied: zipp>=0.5 in c:\\users\\dttrung\\appdata\\local\\programs\\python\\python38\\lib\\site-packages (from importlib-metadata>=3.6->jupyter-ydoc~=0.2.2->jupyterlab<4.0.0a0,>=3.0.0->jupyterlab-kite>=2.0.2) (3.15.0)\n",
      "Requirement already satisfied: parso<0.9.0,>=0.8.0 in c:\\users\\dttrung\\appdata\\roaming\\python\\python38\\site-packages (from jedi>=0.16->ipython->jupyterlab<4.0.0a0,>=3.0.0->jupyterlab-kite>=2.0.2) (0.8.3)\n",
      "Requirement already satisfied: pkgutil-resolve-name>=1.3.10 in c:\\users\\dttrung\\appdata\\local\\programs\\python\\python38\\lib\\site-packages (from jsonschema>=4.17.3->jupyterlab-server~=2.19->jupyterlab<4.0.0a0,>=3.0.0->jupyterlab-kite>=2.0.2) (1.3.10)\n",
      "Requirement already satisfied: importlib-resources>=1.4.0 in c:\\users\\dttrung\\appdata\\local\\programs\\python\\python38\\lib\\site-packages (from jsonschema>=4.17.3->jupyterlab-server~=2.19->jupyterlab<4.0.0a0,>=3.0.0->jupyterlab-kite>=2.0.2) (5.12.0)\n",
      "Requirement already satisfied: attrs>=17.4.0 in c:\\users\\dttrung\\appdata\\local\\programs\\python\\python38\\lib\\site-packages (from jsonschema>=4.17.3->jupyterlab-server~=2.19->jupyterlab<4.0.0a0,>=3.0.0->jupyterlab-kite>=2.0.2) (22.1.0)\n",
      "Requirement already satisfied: pyrsistent!=0.17.0,!=0.17.1,!=0.17.2,>=0.14.0 in c:\\users\\dttrung\\appdata\\local\\programs\\python\\python38\\lib\\site-packages (from jsonschema>=4.17.3->jupyterlab-server~=2.19->jupyterlab<4.0.0a0,>=3.0.0->jupyterlab-kite>=2.0.2) (0.19.3)\n",
      "Requirement already satisfied: python-dateutil>=2.8.2 in c:\\users\\dttrung\\appdata\\local\\programs\\python\\python38\\lib\\site-packages (from jupyter-client>=6.1.12->jupyter_server>=1.1.2->jupyter_kite>=2.0.0->jupyterlab-kite>=2.0.2) (2.8.2)\n",
      "Requirement already satisfied: jupyter-events>=0.5.0 in c:\\users\\dttrung\\appdata\\local\\programs\\python\\python38\\lib\\site-packages (from jupyter-server-fileid<1,>=0.6.0->jupyter-server-ydoc<0.7.0,>=0.6.0->jupyterlab<4.0.0a0,>=3.0.0->jupyterlab-kite>=2.0.2) (0.6.3)\n",
      "Requirement already satisfied: beautifulsoup4 in c:\\users\\dttrung\\appdata\\local\\programs\\python\\python38\\lib\\site-packages (from nbconvert>=6.4.4->jupyter_server>=1.1.2->jupyter_kite>=2.0.0->jupyterlab-kite>=2.0.2) (4.11.1)\n",
      "Requirement already satisfied: tinycss2 in c:\\users\\dttrung\\appdata\\local\\programs\\python\\python38\\lib\\site-packages (from nbconvert>=6.4.4->jupyter_server>=1.1.2->jupyter_kite>=2.0.0->jupyterlab-kite>=2.0.2) (1.2.1)\n",
      "Requirement already satisfied: jupyterlab-pygments in c:\\users\\dttrung\\appdata\\local\\programs\\python\\python38\\lib\\site-packages (from nbconvert>=6.4.4->jupyter_server>=1.1.2->jupyter_kite>=2.0.0->jupyterlab-kite>=2.0.2) (0.2.2)\n",
      "Requirement already satisfied: pandocfilters>=1.4.1 in c:\\users\\dttrung\\appdata\\local\\programs\\python\\python38\\lib\\site-packages (from nbconvert>=6.4.4->jupyter_server>=1.1.2->jupyter_kite>=2.0.0->jupyterlab-kite>=2.0.2) (1.5.0)\n",
      "Requirement already satisfied: bleach in c:\\users\\dttrung\\appdata\\local\\programs\\python\\python38\\lib\\site-packages (from nbconvert>=6.4.4->jupyter_server>=1.1.2->jupyter_kite>=2.0.0->jupyterlab-kite>=2.0.2) (6.0.0)\n",
      "Requirement already satisfied: defusedxml in c:\\users\\dttrung\\appdata\\local\\programs\\python\\python38\\lib\\site-packages (from nbconvert>=6.4.4->jupyter_server>=1.1.2->jupyter_kite>=2.0.0->jupyterlab-kite>=2.0.2) (0.7.1)\n",
      "Requirement already satisfied: mistune<3,>=2.0.3 in c:\\users\\dttrung\\appdata\\local\\programs\\python\\python38\\lib\\site-packages (from nbconvert>=6.4.4->jupyter_server>=1.1.2->jupyter_kite>=2.0.0->jupyterlab-kite>=2.0.2) (2.0.5)\n",
      "Requirement already satisfied: nbclient>=0.5.0 in c:\\users\\dttrung\\appdata\\local\\programs\\python\\python38\\lib\\site-packages (from nbconvert>=6.4.4->jupyter_server>=1.1.2->jupyter_kite>=2.0.0->jupyterlab-kite>=2.0.2) (0.7.2)\n",
      "Requirement already satisfied: fastjsonschema in c:\\users\\dttrung\\appdata\\local\\programs\\python\\python38\\lib\\site-packages (from nbformat>=5.2.0->jupyter_server>=1.1.2->jupyter_kite>=2.0.0->jupyterlab-kite>=2.0.2) (2.16.3)\n",
      "Requirement already satisfied: wcwidth in c:\\users\\dttrung\\appdata\\roaming\\python\\python38\\site-packages (from prompt-toolkit!=3.0.0,!=3.0.1,<3.1.0,>=2.0.0->ipython->jupyterlab<4.0.0a0,>=3.0.0->jupyterlab-kite>=2.0.2) (0.2.5)\n",
      "Requirement already satisfied: certifi>=2017.4.17 in c:\\users\\dttrung\\appdata\\local\\programs\\python\\python38\\lib\\site-packages (from requests>=2.28->jupyterlab-server~=2.19->jupyterlab<4.0.0a0,>=3.0.0->jupyterlab-kite>=2.0.2) (2022.6.15.1)\n",
      "Requirement already satisfied: charset-normalizer<3,>=2 in c:\\users\\dttrung\\appdata\\local\\programs\\python\\python38\\lib\\site-packages (from requests>=2.28->jupyterlab-server~=2.19->jupyterlab<4.0.0a0,>=3.0.0->jupyterlab-kite>=2.0.2) (2.1.1)\n",
      "Requirement already satisfied: urllib3<1.27,>=1.21.1 in c:\\users\\dttrung\\appdata\\local\\programs\\python\\python38\\lib\\site-packages (from requests>=2.28->jupyterlab-server~=2.19->jupyterlab<4.0.0a0,>=3.0.0->jupyterlab-kite>=2.0.2) (1.26.12)\n",
      "Requirement already satisfied: aiosqlite<1,>=0.17.0 in c:\\users\\dttrung\\appdata\\local\\programs\\python\\python38\\lib\\site-packages (from ypy-websocket<0.9.0,>=0.8.2->jupyter-server-ydoc<0.7.0,>=0.6.0->jupyterlab<4.0.0a0,>=3.0.0->jupyterlab-kite>=2.0.2) (0.18.0)\n",
      "Requirement already satisfied: aiofiles<23,>=22.1.0 in c:\\users\\dttrung\\appdata\\local\\programs\\python\\python38\\lib\\site-packages (from ypy-websocket<0.9.0,>=0.8.2->jupyter-server-ydoc<0.7.0,>=0.6.0->jupyterlab<4.0.0a0,>=3.0.0->jupyterlab-kite>=2.0.2) (22.1.0)\n",
      "Requirement already satisfied: argon2-cffi-bindings in c:\\users\\dttrung\\appdata\\local\\programs\\python\\python38\\lib\\site-packages (from argon2-cffi->jupyter_server>=1.1.2->jupyter_kite>=2.0.0->jupyterlab-kite>=2.0.2) (21.2.0)\n",
      "Requirement already satisfied: debugpy>=1.0 in c:\\users\\dttrung\\appdata\\roaming\\python\\python38\\site-packages (from ipykernel->notebook<7->jupyterlab<4.0.0a0,>=3.0.0->jupyterlab-kite>=2.0.2) (1.6.3)\n",
      "Requirement already satisfied: psutil in c:\\users\\dttrung\\appdata\\roaming\\python\\python38\\site-packages (from ipykernel->notebook<7->jupyterlab<4.0.0a0,>=3.0.0->jupyterlab-kite>=2.0.2) (5.9.1)\n",
      "Requirement already satisfied: pure-eval in c:\\users\\dttrung\\appdata\\roaming\\python\\python38\\site-packages (from stack-data->ipython->jupyterlab<4.0.0a0,>=3.0.0->jupyterlab-kite>=2.0.2) (0.2.2)\n",
      "Requirement already satisfied: asttokens in c:\\users\\dttrung\\appdata\\roaming\\python\\python38\\site-packages (from stack-data->ipython->jupyterlab<4.0.0a0,>=3.0.0->jupyterlab-kite>=2.0.2) (2.0.8)\n",
      "Requirement already satisfied: executing in c:\\users\\dttrung\\appdata\\roaming\\python\\python38\\site-packages (from stack-data->ipython->jupyterlab<4.0.0a0,>=3.0.0->jupyterlab-kite>=2.0.2) (1.0.0)\n",
      "Requirement already satisfied: rfc3339-validator in c:\\users\\dttrung\\appdata\\local\\programs\\python\\python38\\lib\\site-packages (from jupyter-events>=0.5.0->jupyter-server-fileid<1,>=0.6.0->jupyter-server-ydoc<0.7.0,>=0.6.0->jupyterlab<4.0.0a0,>=3.0.0->jupyterlab-kite>=2.0.2) (0.1.4)\n",
      "Requirement already satisfied: pyyaml>=5.3 in c:\\users\\dttrung\\appdata\\local\\programs\\python\\python38\\lib\\site-packages (from jupyter-events>=0.5.0->jupyter-server-fileid<1,>=0.6.0->jupyter-server-ydoc<0.7.0,>=0.6.0->jupyterlab<4.0.0a0,>=3.0.0->jupyterlab-kite>=2.0.2) (6.0)\n",
      "Requirement already satisfied: rfc3986-validator>=0.1.1 in c:\\users\\dttrung\\appdata\\local\\programs\\python\\python38\\lib\\site-packages (from jupyter-events>=0.5.0->jupyter-server-fileid<1,>=0.6.0->jupyter-server-ydoc<0.7.0,>=0.6.0->jupyterlab<4.0.0a0,>=3.0.0->jupyterlab-kite>=2.0.2) (0.1.1)\n",
      "Requirement already satisfied: python-json-logger>=2.0.4 in c:\\users\\dttrung\\appdata\\local\\programs\\python\\python38\\lib\\site-packages (from jupyter-events>=0.5.0->jupyter-server-fileid<1,>=0.6.0->jupyter-server-ydoc<0.7.0,>=0.6.0->jupyterlab<4.0.0a0,>=3.0.0->jupyterlab-kite>=2.0.2) (2.0.7)\n",
      "Requirement already satisfied: six>=1.5 in c:\\users\\dttrung\\appdata\\local\\programs\\python\\python38\\lib\\site-packages (from python-dateutil>=2.8.2->jupyter-client>=6.1.12->jupyter_server>=1.1.2->jupyter_kite>=2.0.0->jupyterlab-kite>=2.0.2) (1.16.0)\n",
      "Requirement already satisfied: cffi>=1.0.1 in c:\\users\\dttrung\\appdata\\local\\programs\\python\\python38\\lib\\site-packages (from argon2-cffi-bindings->argon2-cffi->jupyter_server>=1.1.2->jupyter_kite>=2.0.0->jupyterlab-kite>=2.0.2) (1.15.1)\n",
      "Requirement already satisfied: soupsieve>1.2 in c:\\users\\dttrung\\appdata\\local\\programs\\python\\python38\\lib\\site-packages (from beautifulsoup4->nbconvert>=6.4.4->jupyter_server>=1.1.2->jupyter_kite>=2.0.0->jupyterlab-kite>=2.0.2) (2.3.2.post1)\n",
      "Requirement already satisfied: webencodings in c:\\users\\dttrung\\appdata\\local\\programs\\python\\python38\\lib\\site-packages (from bleach->nbconvert>=6.4.4->jupyter_server>=1.1.2->jupyter_kite>=2.0.0->jupyterlab-kite>=2.0.2) (0.5.1)\n",
      "Requirement already satisfied: pycparser in c:\\users\\dttrung\\appdata\\local\\programs\\python\\python38\\lib\\site-packages (from cffi>=1.0.1->argon2-cffi-bindings->argon2-cffi->jupyter_server>=1.1.2->jupyter_kite>=2.0.0->jupyterlab-kite>=2.0.2) (2.21)\n",
      "Requirement already satisfied: fqdn in c:\\users\\dttrung\\appdata\\local\\programs\\python\\python38\\lib\\site-packages (from jsonschema>=4.17.3->jupyterlab-server~=2.19->jupyterlab<4.0.0a0,>=3.0.0->jupyterlab-kite>=2.0.2) (1.5.1)\n",
      "Requirement already satisfied: uri-template in c:\\users\\dttrung\\appdata\\local\\programs\\python\\python38\\lib\\site-packages (from jsonschema>=4.17.3->jupyterlab-server~=2.19->jupyterlab<4.0.0a0,>=3.0.0->jupyterlab-kite>=2.0.2) (1.2.0)\n",
      "Requirement already satisfied: isoduration in c:\\users\\dttrung\\appdata\\local\\programs\\python\\python38\\lib\\site-packages (from jsonschema>=4.17.3->jupyterlab-server~=2.19->jupyterlab<4.0.0a0,>=3.0.0->jupyterlab-kite>=2.0.2) (20.11.0)\n",
      "Requirement already satisfied: jsonpointer>1.13 in c:\\users\\dttrung\\appdata\\local\\programs\\python\\python38\\lib\\site-packages (from jsonschema>=4.17.3->jupyterlab-server~=2.19->jupyterlab<4.0.0a0,>=3.0.0->jupyterlab-kite>=2.0.2) (2.3)\n",
      "Requirement already satisfied: webcolors>=1.11 in c:\\users\\dttrung\\appdata\\local\\programs\\python\\python38\\lib\\site-packages (from jsonschema>=4.17.3->jupyterlab-server~=2.19->jupyterlab<4.0.0a0,>=3.0.0->jupyterlab-kite>=2.0.2) (1.12)\n",
      "Requirement already satisfied: arrow>=0.15.0 in c:\\users\\dttrung\\appdata\\local\\programs\\python\\python38\\lib\\site-packages (from isoduration->jsonschema>=4.17.3->jupyterlab-server~=2.19->jupyterlab<4.0.0a0,>=3.0.0->jupyterlab-kite>=2.0.2) (1.2.3)\n",
      "Note: you may need to restart the kernel to use updated packages.\n"
     ]
    }
   ],
   "source": [
    "# pip install \"jupyterlab-kite>=2.0.2\"\n"
   ]
  },
  {
   "cell_type": "code",
   "execution_count": 17,
   "id": "c9012565-9b00-43f3-8ce0-76e03e9ae9df",
   "metadata": {
    "tags": []
   },
   "outputs": [
    {
     "name": "stdout",
     "output_type": "stream",
     "text": [
      "Note: you may need to restart the kernel to use updated packages.\n"
     ]
    },
    {
     "name": "stderr",
     "output_type": "stream",
     "text": [
      "ERROR: You must give at least one requirement to install (see \"pip help install\")\n"
     ]
    }
   ],
   "source": [
    "#  pip install --use-pep517"
   ]
  },
  {
   "cell_type": "code",
   "execution_count": 18,
   "id": "b4f00583-f991-4fd8-9942-9e693eeb37e2",
   "metadata": {
    "tags": []
   },
   "outputs": [
    {
     "name": "stdout",
     "output_type": "stream",
     "text": [
      "Requirement already satisfied: jupyterlab-kite>=2.0.2 in c:\\users\\dttrung\\appdata\\local\\programs\\python\\python38\\lib\\site-packages (2.0.2)\n",
      "Requirement already satisfied: jupyter_kite>=2.0.0 in c:\\users\\dttrung\\appdata\\local\\programs\\python\\python38\\lib\\site-packages (from jupyterlab-kite>=2.0.2) (2.0.2)\n",
      "Requirement already satisfied: jupyterlab<4.0.0a0,>=3.0.0 in c:\\users\\dttrung\\appdata\\local\\programs\\python\\python38\\lib\\site-packages (from jupyterlab-kite>=2.0.2) (3.6.1)\n",
      "Requirement already satisfied: tornado>=5.1.0 in c:\\users\\dttrung\\appdata\\roaming\\python\\python38\\site-packages (from jupyter_kite>=2.0.0->jupyterlab-kite>=2.0.2) (6.2)\n",
      "Requirement already satisfied: jupyter_server>=1.1.2 in c:\\users\\dttrung\\appdata\\local\\programs\\python\\python38\\lib\\site-packages (from jupyter_kite>=2.0.0->jupyterlab-kite>=2.0.2) (1.23.6)\n",
      "Requirement already satisfied: entrypoints in c:\\users\\dttrung\\appdata\\roaming\\python\\python38\\site-packages (from jupyter_kite>=2.0.0->jupyterlab-kite>=2.0.2) (0.4)\n",
      "Requirement already satisfied: ipython in c:\\users\\dttrung\\appdata\\roaming\\python\\python38\\site-packages (from jupyterlab<4.0.0a0,>=3.0.0->jupyterlab-kite>=2.0.2) (8.4.0)\n",
      "Requirement already satisfied: tomli in c:\\users\\dttrung\\appdata\\local\\programs\\python\\python38\\lib\\site-packages (from jupyterlab<4.0.0a0,>=3.0.0->jupyterlab-kite>=2.0.2) (2.0.1)\n",
      "Requirement already satisfied: jupyterlab-server~=2.19 in c:\\users\\dttrung\\appdata\\local\\programs\\python\\python38\\lib\\site-packages (from jupyterlab<4.0.0a0,>=3.0.0->jupyterlab-kite>=2.0.2) (2.20.0)\n",
      "Requirement already satisfied: jupyter-core in c:\\users\\dttrung\\appdata\\local\\programs\\python\\python38\\lib\\site-packages (from jupyterlab<4.0.0a0,>=3.0.0->jupyterlab-kite>=2.0.2) (5.3.0)\n",
      "Requirement already satisfied: jupyter-server-ydoc<0.7.0,>=0.6.0 in c:\\users\\dttrung\\appdata\\local\\programs\\python\\python38\\lib\\site-packages (from jupyterlab<4.0.0a0,>=3.0.0->jupyterlab-kite>=2.0.2) (0.6.1)\n",
      "Requirement already satisfied: jinja2>=2.1 in c:\\users\\dttrung\\appdata\\local\\programs\\python\\python38\\lib\\site-packages (from jupyterlab<4.0.0a0,>=3.0.0->jupyterlab-kite>=2.0.2) (3.1.2)\n",
      "Requirement already satisfied: packaging in c:\\users\\dttrung\\appdata\\roaming\\python\\python38\\site-packages (from jupyterlab<4.0.0a0,>=3.0.0->jupyterlab-kite>=2.0.2) (21.3)\n",
      "Requirement already satisfied: jupyter-ydoc~=0.2.2 in c:\\users\\dttrung\\appdata\\local\\programs\\python\\python38\\lib\\site-packages (from jupyterlab<4.0.0a0,>=3.0.0->jupyterlab-kite>=2.0.2) (0.2.3)\n",
      "Requirement already satisfied: notebook<7 in c:\\users\\dttrung\\appdata\\local\\programs\\python\\python38\\lib\\site-packages (from jupyterlab<4.0.0a0,>=3.0.0->jupyterlab-kite>=2.0.2) (6.5.3)\n",
      "Requirement already satisfied: nbclassic in c:\\users\\dttrung\\appdata\\local\\programs\\python\\python38\\lib\\site-packages (from jupyterlab<4.0.0a0,>=3.0.0->jupyterlab-kite>=2.0.2) (0.5.3)\n",
      "Requirement already satisfied: MarkupSafe>=2.0 in c:\\users\\dttrung\\appdata\\local\\programs\\python\\python38\\lib\\site-packages (from jinja2>=2.1->jupyterlab<4.0.0a0,>=3.0.0->jupyterlab-kite>=2.0.2) (2.1.2)\n",
      "Requirement already satisfied: websocket-client in c:\\users\\dttrung\\appdata\\local\\programs\\python\\python38\\lib\\site-packages (from jupyter_server>=1.1.2->jupyter_kite>=2.0.0->jupyterlab-kite>=2.0.2) (1.5.1)\n",
      "Requirement already satisfied: prometheus-client in c:\\users\\dttrung\\appdata\\local\\programs\\python\\python38\\lib\\site-packages (from jupyter_server>=1.1.2->jupyter_kite>=2.0.0->jupyterlab-kite>=2.0.2) (0.16.0)\n",
      "Requirement already satisfied: terminado>=0.8.3 in c:\\users\\dttrung\\appdata\\local\\programs\\python\\python38\\lib\\site-packages (from jupyter_server>=1.1.2->jupyter_kite>=2.0.0->jupyterlab-kite>=2.0.2) (0.17.1)\n",
      "Requirement already satisfied: nbconvert>=6.4.4 in c:\\users\\dttrung\\appdata\\local\\programs\\python\\python38\\lib\\site-packages (from jupyter_server>=1.1.2->jupyter_kite>=2.0.0->jupyterlab-kite>=2.0.2) (7.2.10)\n",
      "Requirement already satisfied: pyzmq>=17 in c:\\users\\dttrung\\appdata\\local\\programs\\python\\python38\\lib\\site-packages (from jupyter_server>=1.1.2->jupyter_kite>=2.0.0->jupyterlab-kite>=2.0.2) (25.0.1)\n",
      "Requirement already satisfied: pywinpty in c:\\users\\dttrung\\appdata\\local\\programs\\python\\python38\\lib\\site-packages (from jupyter_server>=1.1.2->jupyter_kite>=2.0.0->jupyterlab-kite>=2.0.2) (2.0.10)\n",
      "Requirement already satisfied: Send2Trash in c:\\users\\dttrung\\appdata\\local\\programs\\python\\python38\\lib\\site-packages (from jupyter_server>=1.1.2->jupyter_kite>=2.0.0->jupyterlab-kite>=2.0.2) (1.8.0)\n",
      "Requirement already satisfied: argon2-cffi in c:\\users\\dttrung\\appdata\\local\\programs\\python\\python38\\lib\\site-packages (from jupyter_server>=1.1.2->jupyter_kite>=2.0.0->jupyterlab-kite>=2.0.2) (21.3.0)\n",
      "Requirement already satisfied: jupyter-client>=6.1.12 in c:\\users\\dttrung\\appdata\\local\\programs\\python\\python38\\lib\\site-packages (from jupyter_server>=1.1.2->jupyter_kite>=2.0.0->jupyterlab-kite>=2.0.2) (8.0.3)\n",
      "Requirement already satisfied: nbformat>=5.2.0 in c:\\users\\dttrung\\appdata\\local\\programs\\python\\python38\\lib\\site-packages (from jupyter_server>=1.1.2->jupyter_kite>=2.0.0->jupyterlab-kite>=2.0.2) (5.7.3)\n",
      "Requirement already satisfied: traitlets>=5.1 in c:\\users\\dttrung\\appdata\\local\\programs\\python\\python38\\lib\\site-packages (from jupyter_server>=1.1.2->jupyter_kite>=2.0.0->jupyterlab-kite>=2.0.2) (5.9.0)\n",
      "Requirement already satisfied: anyio<4,>=3.1.0 in c:\\users\\dttrung\\appdata\\local\\programs\\python\\python38\\lib\\site-packages (from jupyter_server>=1.1.2->jupyter_kite>=2.0.0->jupyterlab-kite>=2.0.2) (3.6.2)\n",
      "Requirement already satisfied: platformdirs>=2.5 in c:\\users\\dttrung\\appdata\\local\\programs\\python\\python38\\lib\\site-packages (from jupyter-core->jupyterlab<4.0.0a0,>=3.0.0->jupyterlab-kite>=2.0.2) (3.1.1)\n",
      "Requirement already satisfied: pywin32>=300 in c:\\users\\dttrung\\appdata\\roaming\\python\\python38\\site-packages (from jupyter-core->jupyterlab<4.0.0a0,>=3.0.0->jupyterlab-kite>=2.0.2) (304)\n",
      "Requirement already satisfied: jupyter-server-fileid<1,>=0.6.0 in c:\\users\\dttrung\\appdata\\local\\programs\\python\\python38\\lib\\site-packages (from jupyter-server-ydoc<0.7.0,>=0.6.0->jupyterlab<4.0.0a0,>=3.0.0->jupyterlab-kite>=2.0.2) (0.8.0)\n",
      "Requirement already satisfied: ypy-websocket<0.9.0,>=0.8.2 in c:\\users\\dttrung\\appdata\\local\\programs\\python\\python38\\lib\\site-packages (from jupyter-server-ydoc<0.7.0,>=0.6.0->jupyterlab<4.0.0a0,>=3.0.0->jupyterlab-kite>=2.0.2) (0.8.2)\n",
      "Requirement already satisfied: y-py<0.6.0,>=0.5.3 in c:\\users\\dttrung\\appdata\\local\\programs\\python\\python38\\lib\\site-packages (from jupyter-ydoc~=0.2.2->jupyterlab<4.0.0a0,>=3.0.0->jupyterlab-kite>=2.0.2) (0.5.9)\n",
      "Requirement already satisfied: importlib-metadata>=3.6 in c:\\users\\dttrung\\appdata\\local\\programs\\python\\python38\\lib\\site-packages (from jupyter-ydoc~=0.2.2->jupyterlab<4.0.0a0,>=3.0.0->jupyterlab-kite>=2.0.2) (6.0.0)\n",
      "Requirement already satisfied: babel>=2.10 in c:\\users\\dttrung\\appdata\\local\\programs\\python\\python38\\lib\\site-packages (from jupyterlab-server~=2.19->jupyterlab<4.0.0a0,>=3.0.0->jupyterlab-kite>=2.0.2) (2.12.1)\n",
      "Requirement already satisfied: jsonschema>=4.17.3 in c:\\users\\dttrung\\appdata\\local\\programs\\python\\python38\\lib\\site-packages (from jupyterlab-server~=2.19->jupyterlab<4.0.0a0,>=3.0.0->jupyterlab-kite>=2.0.2) (4.17.3)\n",
      "Requirement already satisfied: requests>=2.28 in c:\\users\\dttrung\\appdata\\local\\programs\\python\\python38\\lib\\site-packages (from jupyterlab-server~=2.19->jupyterlab<4.0.0a0,>=3.0.0->jupyterlab-kite>=2.0.2) (2.28.1)\n",
      "Requirement already satisfied: json5>=0.9.0 in c:\\users\\dttrung\\appdata\\local\\programs\\python\\python38\\lib\\site-packages (from jupyterlab-server~=2.19->jupyterlab<4.0.0a0,>=3.0.0->jupyterlab-kite>=2.0.2) (0.9.11)\n",
      "Requirement already satisfied: ipython-genutils in c:\\users\\dttrung\\appdata\\local\\programs\\python\\python38\\lib\\site-packages (from notebook<7->jupyterlab<4.0.0a0,>=3.0.0->jupyterlab-kite>=2.0.2) (0.2.0)\n",
      "Requirement already satisfied: nest-asyncio>=1.5 in c:\\users\\dttrung\\appdata\\roaming\\python\\python38\\site-packages (from notebook<7->jupyterlab<4.0.0a0,>=3.0.0->jupyterlab-kite>=2.0.2) (1.5.5)\n",
      "Requirement already satisfied: ipykernel in c:\\users\\dttrung\\appdata\\roaming\\python\\python38\\site-packages (from notebook<7->jupyterlab<4.0.0a0,>=3.0.0->jupyterlab-kite>=2.0.2) (6.15.2)\n",
      "Requirement already satisfied: notebook-shim>=0.1.0 in c:\\users\\dttrung\\appdata\\local\\programs\\python\\python38\\lib\\site-packages (from nbclassic->jupyterlab<4.0.0a0,>=3.0.0->jupyterlab-kite>=2.0.2) (0.2.2)\n",
      "Requirement already satisfied: pyparsing!=3.0.5,>=2.0.2 in c:\\users\\dttrung\\appdata\\roaming\\python\\python38\\site-packages (from packaging->jupyterlab<4.0.0a0,>=3.0.0->jupyterlab-kite>=2.0.2) (3.0.9)\n",
      "Requirement already satisfied: pygments>=2.4.0 in c:\\users\\dttrung\\appdata\\roaming\\python\\python38\\site-packages (from ipython->jupyterlab<4.0.0a0,>=3.0.0->jupyterlab-kite>=2.0.2) (2.13.0)\n",
      "Requirement already satisfied: colorama in c:\\users\\dttrung\\appdata\\roaming\\python\\python38\\site-packages (from ipython->jupyterlab<4.0.0a0,>=3.0.0->jupyterlab-kite>=2.0.2) (0.4.5)\n",
      "Requirement already satisfied: prompt-toolkit!=3.0.0,!=3.0.1,<3.1.0,>=2.0.0 in c:\\users\\dttrung\\appdata\\roaming\\python\\python38\\site-packages (from ipython->jupyterlab<4.0.0a0,>=3.0.0->jupyterlab-kite>=2.0.2) (3.0.31)\n",
      "Requirement already satisfied: stack-data in c:\\users\\dttrung\\appdata\\roaming\\python\\python38\\site-packages (from ipython->jupyterlab<4.0.0a0,>=3.0.0->jupyterlab-kite>=2.0.2) (0.5.0)\n",
      "Requirement already satisfied: decorator in c:\\users\\dttrung\\appdata\\roaming\\python\\python38\\site-packages (from ipython->jupyterlab<4.0.0a0,>=3.0.0->jupyterlab-kite>=2.0.2) (5.1.1)\n",
      "Requirement already satisfied: jedi>=0.16 in c:\\users\\dttrung\\appdata\\roaming\\python\\python38\\site-packages (from ipython->jupyterlab<4.0.0a0,>=3.0.0->jupyterlab-kite>=2.0.2) (0.18.1)\n",
      "Requirement already satisfied: backcall in c:\\users\\dttrung\\appdata\\roaming\\python\\python38\\site-packages (from ipython->jupyterlab<4.0.0a0,>=3.0.0->jupyterlab-kite>=2.0.2) (0.2.0)\n",
      "Requirement already satisfied: pickleshare in c:\\users\\dttrung\\appdata\\roaming\\python\\python38\\site-packages (from ipython->jupyterlab<4.0.0a0,>=3.0.0->jupyterlab-kite>=2.0.2) (0.7.5)\n",
      "Requirement already satisfied: matplotlib-inline in c:\\users\\dttrung\\appdata\\roaming\\python\\python38\\site-packages (from ipython->jupyterlab<4.0.0a0,>=3.0.0->jupyterlab-kite>=2.0.2) (0.1.6)\n",
      "Requirement already satisfied: setuptools>=18.5 in c:\\users\\dttrung\\appdata\\local\\programs\\python\\python38\\lib\\site-packages (from ipython->jupyterlab<4.0.0a0,>=3.0.0->jupyterlab-kite>=2.0.2) (56.0.0)\n",
      "Requirement already satisfied: idna>=2.8 in c:\\users\\dttrung\\appdata\\local\\programs\\python\\python38\\lib\\site-packages (from anyio<4,>=3.1.0->jupyter_server>=1.1.2->jupyter_kite>=2.0.0->jupyterlab-kite>=2.0.2) (3.3)\n",
      "Requirement already satisfied: sniffio>=1.1 in c:\\users\\dttrung\\appdata\\local\\programs\\python\\python38\\lib\\site-packages (from anyio<4,>=3.1.0->jupyter_server>=1.1.2->jupyter_kite>=2.0.0->jupyterlab-kite>=2.0.2) (1.3.0)\n",
      "Requirement already satisfied: pytz>=2015.7 in c:\\users\\dttrung\\appdata\\local\\programs\\python\\python38\\lib\\site-packages (from babel>=2.10->jupyterlab-server~=2.19->jupyterlab<4.0.0a0,>=3.0.0->jupyterlab-kite>=2.0.2) (2022.2.1)\n",
      "Requirement already satisfied: zipp>=0.5 in c:\\users\\dttrung\\appdata\\local\\programs\\python\\python38\\lib\\site-packages (from importlib-metadata>=3.6->jupyter-ydoc~=0.2.2->jupyterlab<4.0.0a0,>=3.0.0->jupyterlab-kite>=2.0.2) (3.15.0)\n",
      "Requirement already satisfied: parso<0.9.0,>=0.8.0 in c:\\users\\dttrung\\appdata\\roaming\\python\\python38\\site-packages (from jedi>=0.16->ipython->jupyterlab<4.0.0a0,>=3.0.0->jupyterlab-kite>=2.0.2) (0.8.3)\n",
      "Requirement already satisfied: pkgutil-resolve-name>=1.3.10 in c:\\users\\dttrung\\appdata\\local\\programs\\python\\python38\\lib\\site-packages (from jsonschema>=4.17.3->jupyterlab-server~=2.19->jupyterlab<4.0.0a0,>=3.0.0->jupyterlab-kite>=2.0.2) (1.3.10)\n",
      "Requirement already satisfied: importlib-resources>=1.4.0 in c:\\users\\dttrung\\appdata\\local\\programs\\python\\python38\\lib\\site-packages (from jsonschema>=4.17.3->jupyterlab-server~=2.19->jupyterlab<4.0.0a0,>=3.0.0->jupyterlab-kite>=2.0.2) (5.12.0)\n",
      "Requirement already satisfied: attrs>=17.4.0 in c:\\users\\dttrung\\appdata\\local\\programs\\python\\python38\\lib\\site-packages (from jsonschema>=4.17.3->jupyterlab-server~=2.19->jupyterlab<4.0.0a0,>=3.0.0->jupyterlab-kite>=2.0.2) (22.1.0)\n",
      "Requirement already satisfied: pyrsistent!=0.17.0,!=0.17.1,!=0.17.2,>=0.14.0 in c:\\users\\dttrung\\appdata\\local\\programs\\python\\python38\\lib\\site-packages (from jsonschema>=4.17.3->jupyterlab-server~=2.19->jupyterlab<4.0.0a0,>=3.0.0->jupyterlab-kite>=2.0.2) (0.19.3)\n",
      "Requirement already satisfied: python-dateutil>=2.8.2 in c:\\users\\dttrung\\appdata\\local\\programs\\python\\python38\\lib\\site-packages (from jupyter-client>=6.1.12->jupyter_server>=1.1.2->jupyter_kite>=2.0.0->jupyterlab-kite>=2.0.2) (2.8.2)\n",
      "Requirement already satisfied: jupyter-events>=0.5.0 in c:\\users\\dttrung\\appdata\\local\\programs\\python\\python38\\lib\\site-packages (from jupyter-server-fileid<1,>=0.6.0->jupyter-server-ydoc<0.7.0,>=0.6.0->jupyterlab<4.0.0a0,>=3.0.0->jupyterlab-kite>=2.0.2) (0.6.3)\n",
      "Requirement already satisfied: nbclient>=0.5.0 in c:\\users\\dttrung\\appdata\\local\\programs\\python\\python38\\lib\\site-packages (from nbconvert>=6.4.4->jupyter_server>=1.1.2->jupyter_kite>=2.0.0->jupyterlab-kite>=2.0.2) (0.7.2)\n",
      "Requirement already satisfied: jupyterlab-pygments in c:\\users\\dttrung\\appdata\\local\\programs\\python\\python38\\lib\\site-packages (from nbconvert>=6.4.4->jupyter_server>=1.1.2->jupyter_kite>=2.0.0->jupyterlab-kite>=2.0.2) (0.2.2)\n",
      "Requirement already satisfied: tinycss2 in c:\\users\\dttrung\\appdata\\local\\programs\\python\\python38\\lib\\site-packages (from nbconvert>=6.4.4->jupyter_server>=1.1.2->jupyter_kite>=2.0.0->jupyterlab-kite>=2.0.2) (1.2.1)\n",
      "Requirement already satisfied: mistune<3,>=2.0.3 in c:\\users\\dttrung\\appdata\\local\\programs\\python\\python38\\lib\\site-packages (from nbconvert>=6.4.4->jupyter_server>=1.1.2->jupyter_kite>=2.0.0->jupyterlab-kite>=2.0.2) (2.0.5)\n",
      "Requirement already satisfied: pandocfilters>=1.4.1 in c:\\users\\dttrung\\appdata\\local\\programs\\python\\python38\\lib\\site-packages (from nbconvert>=6.4.4->jupyter_server>=1.1.2->jupyter_kite>=2.0.0->jupyterlab-kite>=2.0.2) (1.5.0)\n",
      "Requirement already satisfied: bleach in c:\\users\\dttrung\\appdata\\local\\programs\\python\\python38\\lib\\site-packages (from nbconvert>=6.4.4->jupyter_server>=1.1.2->jupyter_kite>=2.0.0->jupyterlab-kite>=2.0.2) (6.0.0)\n",
      "Requirement already satisfied: defusedxml in c:\\users\\dttrung\\appdata\\local\\programs\\python\\python38\\lib\\site-packages (from nbconvert>=6.4.4->jupyter_server>=1.1.2->jupyter_kite>=2.0.0->jupyterlab-kite>=2.0.2) (0.7.1)\n",
      "Requirement already satisfied: beautifulsoup4 in c:\\users\\dttrung\\appdata\\local\\programs\\python\\python38\\lib\\site-packages (from nbconvert>=6.4.4->jupyter_server>=1.1.2->jupyter_kite>=2.0.0->jupyterlab-kite>=2.0.2) (4.11.1)\n",
      "Requirement already satisfied: fastjsonschema in c:\\users\\dttrung\\appdata\\local\\programs\\python\\python38\\lib\\site-packages (from nbformat>=5.2.0->jupyter_server>=1.1.2->jupyter_kite>=2.0.0->jupyterlab-kite>=2.0.2) (2.16.3)\n",
      "Requirement already satisfied: wcwidth in c:\\users\\dttrung\\appdata\\roaming\\python\\python38\\site-packages (from prompt-toolkit!=3.0.0,!=3.0.1,<3.1.0,>=2.0.0->ipython->jupyterlab<4.0.0a0,>=3.0.0->jupyterlab-kite>=2.0.2) (0.2.5)\n",
      "Requirement already satisfied: charset-normalizer<3,>=2 in c:\\users\\dttrung\\appdata\\local\\programs\\python\\python38\\lib\\site-packages (from requests>=2.28->jupyterlab-server~=2.19->jupyterlab<4.0.0a0,>=3.0.0->jupyterlab-kite>=2.0.2) (2.1.1)\n",
      "Requirement already satisfied: certifi>=2017.4.17 in c:\\users\\dttrung\\appdata\\local\\programs\\python\\python38\\lib\\site-packages (from requests>=2.28->jupyterlab-server~=2.19->jupyterlab<4.0.0a0,>=3.0.0->jupyterlab-kite>=2.0.2) (2022.6.15.1)\n",
      "Requirement already satisfied: urllib3<1.27,>=1.21.1 in c:\\users\\dttrung\\appdata\\local\\programs\\python\\python38\\lib\\site-packages (from requests>=2.28->jupyterlab-server~=2.19->jupyterlab<4.0.0a0,>=3.0.0->jupyterlab-kite>=2.0.2) (1.26.12)\n",
      "Requirement already satisfied: aiofiles<23,>=22.1.0 in c:\\users\\dttrung\\appdata\\local\\programs\\python\\python38\\lib\\site-packages (from ypy-websocket<0.9.0,>=0.8.2->jupyter-server-ydoc<0.7.0,>=0.6.0->jupyterlab<4.0.0a0,>=3.0.0->jupyterlab-kite>=2.0.2) (22.1.0)\n",
      "Requirement already satisfied: aiosqlite<1,>=0.17.0 in c:\\users\\dttrung\\appdata\\local\\programs\\python\\python38\\lib\\site-packages (from ypy-websocket<0.9.0,>=0.8.2->jupyter-server-ydoc<0.7.0,>=0.6.0->jupyterlab<4.0.0a0,>=3.0.0->jupyterlab-kite>=2.0.2) (0.18.0)\n",
      "Requirement already satisfied: argon2-cffi-bindings in c:\\users\\dttrung\\appdata\\local\\programs\\python\\python38\\lib\\site-packages (from argon2-cffi->jupyter_server>=1.1.2->jupyter_kite>=2.0.0->jupyterlab-kite>=2.0.2) (21.2.0)\n",
      "Requirement already satisfied: debugpy>=1.0 in c:\\users\\dttrung\\appdata\\roaming\\python\\python38\\site-packages (from ipykernel->notebook<7->jupyterlab<4.0.0a0,>=3.0.0->jupyterlab-kite>=2.0.2) (1.6.3)\n",
      "Requirement already satisfied: psutil in c:\\users\\dttrung\\appdata\\roaming\\python\\python38\\site-packages (from ipykernel->notebook<7->jupyterlab<4.0.0a0,>=3.0.0->jupyterlab-kite>=2.0.2) (5.9.1)\n",
      "Requirement already satisfied: executing in c:\\users\\dttrung\\appdata\\roaming\\python\\python38\\site-packages (from stack-data->ipython->jupyterlab<4.0.0a0,>=3.0.0->jupyterlab-kite>=2.0.2) (1.0.0)\n",
      "Requirement already satisfied: pure-eval in c:\\users\\dttrung\\appdata\\roaming\\python\\python38\\site-packages (from stack-data->ipython->jupyterlab<4.0.0a0,>=3.0.0->jupyterlab-kite>=2.0.2) (0.2.2)\n",
      "Requirement already satisfied: asttokens in c:\\users\\dttrung\\appdata\\roaming\\python\\python38\\site-packages (from stack-data->ipython->jupyterlab<4.0.0a0,>=3.0.0->jupyterlab-kite>=2.0.2) (2.0.8)\n",
      "Requirement already satisfied: python-json-logger>=2.0.4 in c:\\users\\dttrung\\appdata\\local\\programs\\python\\python38\\lib\\site-packages (from jupyter-events>=0.5.0->jupyter-server-fileid<1,>=0.6.0->jupyter-server-ydoc<0.7.0,>=0.6.0->jupyterlab<4.0.0a0,>=3.0.0->jupyterlab-kite>=2.0.2) (2.0.7)\n",
      "Requirement already satisfied: pyyaml>=5.3 in c:\\users\\dttrung\\appdata\\local\\programs\\python\\python38\\lib\\site-packages (from jupyter-events>=0.5.0->jupyter-server-fileid<1,>=0.6.0->jupyter-server-ydoc<0.7.0,>=0.6.0->jupyterlab<4.0.0a0,>=3.0.0->jupyterlab-kite>=2.0.2) (6.0)\n",
      "Requirement already satisfied: rfc3986-validator>=0.1.1 in c:\\users\\dttrung\\appdata\\local\\programs\\python\\python38\\lib\\site-packages (from jupyter-events>=0.5.0->jupyter-server-fileid<1,>=0.6.0->jupyter-server-ydoc<0.7.0,>=0.6.0->jupyterlab<4.0.0a0,>=3.0.0->jupyterlab-kite>=2.0.2) (0.1.1)\n",
      "Requirement already satisfied: rfc3339-validator in c:\\users\\dttrung\\appdata\\local\\programs\\python\\python38\\lib\\site-packages (from jupyter-events>=0.5.0->jupyter-server-fileid<1,>=0.6.0->jupyter-server-ydoc<0.7.0,>=0.6.0->jupyterlab<4.0.0a0,>=3.0.0->jupyterlab-kite>=2.0.2) (0.1.4)\n",
      "Requirement already satisfied: six>=1.5 in c:\\users\\dttrung\\appdata\\local\\programs\\python\\python38\\lib\\site-packages (from python-dateutil>=2.8.2->jupyter-client>=6.1.12->jupyter_server>=1.1.2->jupyter_kite>=2.0.0->jupyterlab-kite>=2.0.2) (1.16.0)\n",
      "Requirement already satisfied: cffi>=1.0.1 in c:\\users\\dttrung\\appdata\\local\\programs\\python\\python38\\lib\\site-packages (from argon2-cffi-bindings->argon2-cffi->jupyter_server>=1.1.2->jupyter_kite>=2.0.0->jupyterlab-kite>=2.0.2) (1.15.1)\n",
      "Requirement already satisfied: soupsieve>1.2 in c:\\users\\dttrung\\appdata\\local\\programs\\python\\python38\\lib\\site-packages (from beautifulsoup4->nbconvert>=6.4.4->jupyter_server>=1.1.2->jupyter_kite>=2.0.0->jupyterlab-kite>=2.0.2) (2.3.2.post1)\n",
      "Requirement already satisfied: webencodings in c:\\users\\dttrung\\appdata\\local\\programs\\python\\python38\\lib\\site-packages (from bleach->nbconvert>=6.4.4->jupyter_server>=1.1.2->jupyter_kite>=2.0.0->jupyterlab-kite>=2.0.2) (0.5.1)\n",
      "Requirement already satisfied: pycparser in c:\\users\\dttrung\\appdata\\local\\programs\\python\\python38\\lib\\site-packages (from cffi>=1.0.1->argon2-cffi-bindings->argon2-cffi->jupyter_server>=1.1.2->jupyter_kite>=2.0.0->jupyterlab-kite>=2.0.2) (2.21)\n",
      "Requirement already satisfied: fqdn in c:\\users\\dttrung\\appdata\\local\\programs\\python\\python38\\lib\\site-packages (from jsonschema>=4.17.3->jupyterlab-server~=2.19->jupyterlab<4.0.0a0,>=3.0.0->jupyterlab-kite>=2.0.2) (1.5.1)\n",
      "Requirement already satisfied: jsonpointer>1.13 in c:\\users\\dttrung\\appdata\\local\\programs\\python\\python38\\lib\\site-packages (from jsonschema>=4.17.3->jupyterlab-server~=2.19->jupyterlab<4.0.0a0,>=3.0.0->jupyterlab-kite>=2.0.2) (2.3)\n",
      "Requirement already satisfied: isoduration in c:\\users\\dttrung\\appdata\\local\\programs\\python\\python38\\lib\\site-packages (from jsonschema>=4.17.3->jupyterlab-server~=2.19->jupyterlab<4.0.0a0,>=3.0.0->jupyterlab-kite>=2.0.2) (20.11.0)\n",
      "Requirement already satisfied: uri-template in c:\\users\\dttrung\\appdata\\local\\programs\\python\\python38\\lib\\site-packages (from jsonschema>=4.17.3->jupyterlab-server~=2.19->jupyterlab<4.0.0a0,>=3.0.0->jupyterlab-kite>=2.0.2) (1.2.0)\n",
      "Requirement already satisfied: webcolors>=1.11 in c:\\users\\dttrung\\appdata\\local\\programs\\python\\python38\\lib\\site-packages (from jsonschema>=4.17.3->jupyterlab-server~=2.19->jupyterlab<4.0.0a0,>=3.0.0->jupyterlab-kite>=2.0.2) (1.12)\n",
      "Requirement already satisfied: arrow>=0.15.0 in c:\\users\\dttrung\\appdata\\local\\programs\\python\\python38\\lib\\site-packages (from isoduration->jsonschema>=4.17.3->jupyterlab-server~=2.19->jupyterlab<4.0.0a0,>=3.0.0->jupyterlab-kite>=2.0.2) (1.2.3)\n",
      "Note: you may need to restart the kernel to use updated packages.\n"
     ]
    }
   ],
   "source": [
    "# pip install \"jupyterlab-kite>=2.0.2\" --use-pep517"
   ]
  },
  {
   "cell_type": "code",
   "execution_count": 19,
   "id": "be77b322-e8b0-453c-a0e6-92e82d1a66c6",
   "metadata": {},
   "outputs": [
    {
     "data": {
      "text/html": [
       "<div>\n",
       "<style scoped>\n",
       "    .dataframe tbody tr th:only-of-type {\n",
       "        vertical-align: middle;\n",
       "    }\n",
       "\n",
       "    .dataframe tbody tr th {\n",
       "        vertical-align: top;\n",
       "    }\n",
       "\n",
       "    .dataframe thead th {\n",
       "        text-align: right;\n",
       "    }\n",
       "</style>\n",
       "<table border=\"1\" class=\"dataframe\">\n",
       "  <thead>\n",
       "    <tr style=\"text-align: right;\">\n",
       "      <th></th>\n",
       "      <th>order_id</th>\n",
       "      <th>quantity</th>\n",
       "      <th>item_name</th>\n",
       "    </tr>\n",
       "  </thead>\n",
       "  <tbody>\n",
       "    <tr>\n",
       "      <th>601</th>\n",
       "      <td>247</td>\n",
       "      <td>2</td>\n",
       "      <td>Nantucket Nectar</td>\n",
       "    </tr>\n",
       "    <tr>\n",
       "      <th>2379</th>\n",
       "      <td>947</td>\n",
       "      <td>2</td>\n",
       "      <td>Nantucket Nectar</td>\n",
       "    </tr>\n",
       "  </tbody>\n",
       "</table>\n",
       "</div>"
      ],
      "text/plain": [
       "      order_id  quantity         item_name\n",
       "601        247         2  Nantucket Nectar\n",
       "2379       947         2  Nantucket Nectar"
      ]
     },
     "execution_count": 19,
     "metadata": {},
     "output_type": "execute_result"
    }
   ],
   "source": [
    "# select all rows with multiple conditions\n",
    "df.loc[(df.quantity==2)&(df.item_name==\"Nantucket Nectar\"),['order_id','quantity','item_name']]"
   ]
  },
  {
   "cell_type": "code",
   "execution_count": 20,
   "id": "859ddf2a-aaa7-4ad6-8740-1bcbcd9a7371",
   "metadata": {
    "tags": []
   },
   "outputs": [
    {
     "data": {
      "text/html": [
       "<div>\n",
       "<style scoped>\n",
       "    .dataframe tbody tr th:only-of-type {\n",
       "        vertical-align: middle;\n",
       "    }\n",
       "\n",
       "    .dataframe tbody tr th {\n",
       "        vertical-align: top;\n",
       "    }\n",
       "\n",
       "    .dataframe thead th {\n",
       "        text-align: right;\n",
       "    }\n",
       "</style>\n",
       "<table border=\"1\" class=\"dataframe\">\n",
       "  <thead>\n",
       "    <tr style=\"text-align: right;\">\n",
       "      <th></th>\n",
       "      <th>order_id</th>\n",
       "      <th>quantity</th>\n",
       "      <th>item_name</th>\n",
       "      <th>choice_description</th>\n",
       "      <th>item_price</th>\n",
       "    </tr>\n",
       "  </thead>\n",
       "  <tbody>\n",
       "    <tr>\n",
       "      <th>9</th>\n",
       "      <td>5</td>\n",
       "      <td>1</td>\n",
       "      <td>Steak Burrito</td>\n",
       "      <td>[Fresh Tomato Salsa, [Rice, Black Beans, Pinto...</td>\n",
       "      <td>$9.25</td>\n",
       "    </tr>\n",
       "  </tbody>\n",
       "</table>\n",
       "</div>"
      ],
      "text/plain": [
       "   order_id  quantity      item_name  \\\n",
       "9         5         1  Steak Burrito   \n",
       "\n",
       "                                  choice_description item_price  \n",
       "9  [Fresh Tomato Salsa, [Rice, Black Beans, Pinto...     $9.25   "
      ]
     },
     "execution_count": 20,
     "metadata": {},
     "output_type": "execute_result"
    }
   ],
   "source": [
    "df.iloc[[9]]"
   ]
  },
  {
   "cell_type": "code",
   "execution_count": 21,
   "id": "1cab5951-8e81-4c78-867d-8c97efaeffe7",
   "metadata": {
    "tags": []
   },
   "outputs": [
    {
     "data": {
      "text/html": [
       "<div>\n",
       "<style scoped>\n",
       "    .dataframe tbody tr th:only-of-type {\n",
       "        vertical-align: middle;\n",
       "    }\n",
       "\n",
       "    .dataframe tbody tr th {\n",
       "        vertical-align: top;\n",
       "    }\n",
       "\n",
       "    .dataframe thead th {\n",
       "        text-align: right;\n",
       "    }\n",
       "</style>\n",
       "<table border=\"1\" class=\"dataframe\">\n",
       "  <thead>\n",
       "    <tr style=\"text-align: right;\">\n",
       "      <th></th>\n",
       "      <th>order_id</th>\n",
       "      <th>quantity</th>\n",
       "      <th>item_name</th>\n",
       "      <th>choice_description</th>\n",
       "      <th>item_price</th>\n",
       "    </tr>\n",
       "  </thead>\n",
       "  <tbody>\n",
       "    <tr>\n",
       "      <th>3</th>\n",
       "      <td>1</td>\n",
       "      <td>1</td>\n",
       "      <td>Chips and Tomatillo-Green Chili Salsa</td>\n",
       "      <td>NaN</td>\n",
       "      <td>$2.39</td>\n",
       "    </tr>\n",
       "    <tr>\n",
       "      <th>4</th>\n",
       "      <td>2</td>\n",
       "      <td>2</td>\n",
       "      <td>Chicken Bowl</td>\n",
       "      <td>[Tomatillo-Red Chili Salsa (Hot), [Black Beans...</td>\n",
       "      <td>$16.98</td>\n",
       "    </tr>\n",
       "    <tr>\n",
       "      <th>5</th>\n",
       "      <td>3</td>\n",
       "      <td>1</td>\n",
       "      <td>Chicken Bowl</td>\n",
       "      <td>[Fresh Tomato Salsa (Mild), [Rice, Cheese, Sou...</td>\n",
       "      <td>$10.98</td>\n",
       "    </tr>\n",
       "    <tr>\n",
       "      <th>6</th>\n",
       "      <td>3</td>\n",
       "      <td>1</td>\n",
       "      <td>Side of Chips</td>\n",
       "      <td>NaN</td>\n",
       "      <td>$1.69</td>\n",
       "    </tr>\n",
       "    <tr>\n",
       "      <th>7</th>\n",
       "      <td>4</td>\n",
       "      <td>1</td>\n",
       "      <td>Steak Burrito</td>\n",
       "      <td>[Tomatillo Red Chili Salsa, [Fajita Vegetables...</td>\n",
       "      <td>$11.75</td>\n",
       "    </tr>\n",
       "    <tr>\n",
       "      <th>8</th>\n",
       "      <td>4</td>\n",
       "      <td>1</td>\n",
       "      <td>Steak Soft Tacos</td>\n",
       "      <td>[Tomatillo Green Chili Salsa, [Pinto Beans, Ch...</td>\n",
       "      <td>$9.25</td>\n",
       "    </tr>\n",
       "    <tr>\n",
       "      <th>9</th>\n",
       "      <td>5</td>\n",
       "      <td>1</td>\n",
       "      <td>Steak Burrito</td>\n",
       "      <td>[Fresh Tomato Salsa, [Rice, Black Beans, Pinto...</td>\n",
       "      <td>$9.25</td>\n",
       "    </tr>\n",
       "  </tbody>\n",
       "</table>\n",
       "</div>"
      ],
      "text/plain": [
       "   order_id  quantity                              item_name  \\\n",
       "3         1         1  Chips and Tomatillo-Green Chili Salsa   \n",
       "4         2         2                           Chicken Bowl   \n",
       "5         3         1                           Chicken Bowl   \n",
       "6         3         1                          Side of Chips   \n",
       "7         4         1                          Steak Burrito   \n",
       "8         4         1                       Steak Soft Tacos   \n",
       "9         5         1                          Steak Burrito   \n",
       "\n",
       "                                  choice_description item_price  \n",
       "3                                                NaN     $2.39   \n",
       "4  [Tomatillo-Red Chili Salsa (Hot), [Black Beans...    $16.98   \n",
       "5  [Fresh Tomato Salsa (Mild), [Rice, Cheese, Sou...    $10.98   \n",
       "6                                                NaN     $1.69   \n",
       "7  [Tomatillo Red Chili Salsa, [Fajita Vegetables...    $11.75   \n",
       "8  [Tomatillo Green Chili Salsa, [Pinto Beans, Ch...     $9.25   \n",
       "9  [Fresh Tomato Salsa, [Rice, Black Beans, Pinto...     $9.25   "
      ]
     },
     "execution_count": 21,
     "metadata": {},
     "output_type": "execute_result"
    }
   ],
   "source": [
    "df.iloc[3:10]"
   ]
  },
  {
   "cell_type": "code",
   "execution_count": 22,
   "id": "7114fcec-23ed-42ef-8802-f9e301c5db41",
   "metadata": {
    "tags": []
   },
   "outputs": [],
   "source": [
    "X=df.iloc[3:5,0:-1]"
   ]
  },
  {
   "cell_type": "code",
   "execution_count": 23,
   "id": "53b6974f-1a75-4acf-a695-6a3816b38e0c",
   "metadata": {
    "tags": []
   },
   "outputs": [],
   "source": [
    "Y=df.iloc[3:5, -1]"
   ]
  },
  {
   "cell_type": "code",
   "execution_count": 24,
   "id": "eb5e1a45-2391-4dcc-be4d-d2c54acf4dc6",
   "metadata": {
    "tags": []
   },
   "outputs": [
    {
     "name": "stdout",
     "output_type": "stream",
     "text": [
      "3     $2.39 \n",
      "4    $16.98 \n",
      "Name: item_price, dtype: object\n"
     ]
    }
   ],
   "source": [
    "print(Y)"
   ]
  },
  {
   "cell_type": "markdown",
   "id": "bf466a1c-9806-4754-89e3-6da9f1f6a815",
   "metadata": {},
   "source": [
    "## Step 3: Data Manipulation"
   ]
  },
  {
   "cell_type": "code",
   "execution_count": 25,
   "id": "73bf5f7f-008b-43c5-a439-cf7afe36f6e9",
   "metadata": {
    "tags": []
   },
   "outputs": [
    {
     "data": {
      "text/plain": [
       "dtype('O')"
      ]
     },
     "execution_count": 25,
     "metadata": {},
     "output_type": "execute_result"
    }
   ],
   "source": [
    "df.item_price.dtype"
   ]
  },
  {
   "cell_type": "code",
   "execution_count": 26,
   "id": "7d60a523-5382-4445-be26-ebbcf77065fe",
   "metadata": {
    "tags": []
   },
   "outputs": [
    {
     "data": {
      "text/plain": [
       "0        2.39 \n",
       "1        3.39 \n",
       "2        3.39 \n",
       "3        2.39 \n",
       "4       16.98 \n",
       "         ...  \n",
       "4617    11.75 \n",
       "4618    11.75 \n",
       "4619    11.25 \n",
       "4620     8.75 \n",
       "4621     8.75 \n",
       "Name: item_price, Length: 4622, dtype: object"
      ]
     },
     "execution_count": 26,
     "metadata": {},
     "output_type": "execute_result"
    }
   ],
   "source": [
    "# Apply()\n",
    "df.item_price.apply(lambda x:x.replace(\"$\",\"\"))\n"
   ]
  },
  {
   "cell_type": "code",
   "execution_count": 31,
   "id": "1bd419aa-8984-4918-8a7d-ccf54bd61be8",
   "metadata": {
    "tags": []
   },
   "outputs": [
    {
     "data": {
      "text/plain": [
       "0        2.39\n",
       "1        3.39\n",
       "2        3.39\n",
       "3        2.39\n",
       "4       16.98\n",
       "        ...  \n",
       "4617    11.75\n",
       "4618    11.75\n",
       "4619    11.25\n",
       "4620     8.75\n",
       "4621     8.75\n",
       "Name: item_price, Length: 4622, dtype: float64"
      ]
     },
     "execution_count": 31,
     "metadata": {},
     "output_type": "execute_result"
    }
   ],
   "source": [
    "df.item_price.apply(lambda x:float(x.replace(\"$\",\"\")))\n"
   ]
  },
  {
   "cell_type": "code",
   "execution_count": 32,
   "id": "11f4fee2-472e-4b50-aa92-e8aec2c0facf",
   "metadata": {
    "tags": []
   },
   "outputs": [
    {
     "data": {
      "text/html": [
       "<div>\n",
       "<style scoped>\n",
       "    .dataframe tbody tr th:only-of-type {\n",
       "        vertical-align: middle;\n",
       "    }\n",
       "\n",
       "    .dataframe tbody tr th {\n",
       "        vertical-align: top;\n",
       "    }\n",
       "\n",
       "    .dataframe thead th {\n",
       "        text-align: right;\n",
       "    }\n",
       "</style>\n",
       "<table border=\"1\" class=\"dataframe\">\n",
       "  <thead>\n",
       "    <tr style=\"text-align: right;\">\n",
       "      <th></th>\n",
       "      <th>order_id</th>\n",
       "      <th>quantity</th>\n",
       "      <th>item_name</th>\n",
       "      <th>choice_description</th>\n",
       "      <th>item_price</th>\n",
       "    </tr>\n",
       "  </thead>\n",
       "  <tbody>\n",
       "    <tr>\n",
       "      <th>0</th>\n",
       "      <td>1</td>\n",
       "      <td>1</td>\n",
       "      <td>Chips and Fresh Tomato Salsa</td>\n",
       "      <td>NaN</td>\n",
       "      <td>$2.39</td>\n",
       "    </tr>\n",
       "    <tr>\n",
       "      <th>1</th>\n",
       "      <td>1</td>\n",
       "      <td>1</td>\n",
       "      <td>Izze</td>\n",
       "      <td>[Clementine]</td>\n",
       "      <td>$3.39</td>\n",
       "    </tr>\n",
       "    <tr>\n",
       "      <th>2</th>\n",
       "      <td>1</td>\n",
       "      <td>1</td>\n",
       "      <td>Nantucket Nectar</td>\n",
       "      <td>[Apple]</td>\n",
       "      <td>$3.39</td>\n",
       "    </tr>\n",
       "    <tr>\n",
       "      <th>3</th>\n",
       "      <td>1</td>\n",
       "      <td>1</td>\n",
       "      <td>Chips and Tomatillo-Green Chili Salsa</td>\n",
       "      <td>NaN</td>\n",
       "      <td>$2.39</td>\n",
       "    </tr>\n",
       "    <tr>\n",
       "      <th>4</th>\n",
       "      <td>2</td>\n",
       "      <td>2</td>\n",
       "      <td>Chicken Bowl</td>\n",
       "      <td>[Tomatillo-Red Chili Salsa (Hot), [Black Beans...</td>\n",
       "      <td>$16.98</td>\n",
       "    </tr>\n",
       "  </tbody>\n",
       "</table>\n",
       "</div>"
      ],
      "text/plain": [
       "   order_id  quantity                              item_name  \\\n",
       "0         1         1           Chips and Fresh Tomato Salsa   \n",
       "1         1         1                                   Izze   \n",
       "2         1         1                       Nantucket Nectar   \n",
       "3         1         1  Chips and Tomatillo-Green Chili Salsa   \n",
       "4         2         2                           Chicken Bowl   \n",
       "\n",
       "                                  choice_description item_price  \n",
       "0                                                NaN     $2.39   \n",
       "1                                       [Clementine]     $3.39   \n",
       "2                                            [Apple]     $3.39   \n",
       "3                                                NaN     $2.39   \n",
       "4  [Tomatillo-Red Chili Salsa (Hot), [Black Beans...    $16.98   "
      ]
     },
     "execution_count": 32,
     "metadata": {},
     "output_type": "execute_result"
    }
   ],
   "source": [
    "df.head()"
   ]
  },
  {
   "cell_type": "code",
   "execution_count": 33,
   "id": "1848beba-993e-42fe-842a-4b04f4af5e9d",
   "metadata": {
    "tags": []
   },
   "outputs": [],
   "source": [
    "df.item_price=df.item_price.apply(lambda x:float(x.replace(\"$\",\"\")))\n"
   ]
  },
  {
   "cell_type": "code",
   "execution_count": 34,
   "id": "92e6b2a8-58fc-415a-993f-e83b6c13e80e",
   "metadata": {
    "tags": []
   },
   "outputs": [
    {
     "data": {
      "text/html": [
       "<div>\n",
       "<style scoped>\n",
       "    .dataframe tbody tr th:only-of-type {\n",
       "        vertical-align: middle;\n",
       "    }\n",
       "\n",
       "    .dataframe tbody tr th {\n",
       "        vertical-align: top;\n",
       "    }\n",
       "\n",
       "    .dataframe thead th {\n",
       "        text-align: right;\n",
       "    }\n",
       "</style>\n",
       "<table border=\"1\" class=\"dataframe\">\n",
       "  <thead>\n",
       "    <tr style=\"text-align: right;\">\n",
       "      <th></th>\n",
       "      <th>order_id</th>\n",
       "      <th>quantity</th>\n",
       "      <th>item_name</th>\n",
       "      <th>choice_description</th>\n",
       "      <th>item_price</th>\n",
       "    </tr>\n",
       "  </thead>\n",
       "  <tbody>\n",
       "    <tr>\n",
       "      <th>0</th>\n",
       "      <td>1</td>\n",
       "      <td>1</td>\n",
       "      <td>Chips and Fresh Tomato Salsa</td>\n",
       "      <td>NaN</td>\n",
       "      <td>2.39</td>\n",
       "    </tr>\n",
       "    <tr>\n",
       "      <th>1</th>\n",
       "      <td>1</td>\n",
       "      <td>1</td>\n",
       "      <td>Izze</td>\n",
       "      <td>[Clementine]</td>\n",
       "      <td>3.39</td>\n",
       "    </tr>\n",
       "    <tr>\n",
       "      <th>2</th>\n",
       "      <td>1</td>\n",
       "      <td>1</td>\n",
       "      <td>Nantucket Nectar</td>\n",
       "      <td>[Apple]</td>\n",
       "      <td>3.39</td>\n",
       "    </tr>\n",
       "    <tr>\n",
       "      <th>3</th>\n",
       "      <td>1</td>\n",
       "      <td>1</td>\n",
       "      <td>Chips and Tomatillo-Green Chili Salsa</td>\n",
       "      <td>NaN</td>\n",
       "      <td>2.39</td>\n",
       "    </tr>\n",
       "    <tr>\n",
       "      <th>4</th>\n",
       "      <td>2</td>\n",
       "      <td>2</td>\n",
       "      <td>Chicken Bowl</td>\n",
       "      <td>[Tomatillo-Red Chili Salsa (Hot), [Black Beans...</td>\n",
       "      <td>16.98</td>\n",
       "    </tr>\n",
       "  </tbody>\n",
       "</table>\n",
       "</div>"
      ],
      "text/plain": [
       "   order_id  quantity                              item_name  \\\n",
       "0         1         1           Chips and Fresh Tomato Salsa   \n",
       "1         1         1                                   Izze   \n",
       "2         1         1                       Nantucket Nectar   \n",
       "3         1         1  Chips and Tomatillo-Green Chili Salsa   \n",
       "4         2         2                           Chicken Bowl   \n",
       "\n",
       "                                  choice_description  item_price  \n",
       "0                                                NaN        2.39  \n",
       "1                                       [Clementine]        3.39  \n",
       "2                                            [Apple]        3.39  \n",
       "3                                                NaN        2.39  \n",
       "4  [Tomatillo-Red Chili Salsa (Hot), [Black Beans...       16.98  "
      ]
     },
     "execution_count": 34,
     "metadata": {},
     "output_type": "execute_result"
    }
   ],
   "source": [
    "df.head()"
   ]
  },
  {
   "cell_type": "code",
   "execution_count": 36,
   "id": "e61fd4ce-8693-44aa-b768-9b651deff19d",
   "metadata": {
    "tags": []
   },
   "outputs": [],
   "source": [
    "df[\"total_price\"]=df[\"quantity\"]*df[\"item_price\"]"
   ]
  },
  {
   "cell_type": "code",
   "execution_count": 37,
   "id": "bc410cb7-7a8d-4607-94a3-4cba11c50d69",
   "metadata": {
    "tags": []
   },
   "outputs": [
    {
     "data": {
      "text/html": [
       "<div>\n",
       "<style scoped>\n",
       "    .dataframe tbody tr th:only-of-type {\n",
       "        vertical-align: middle;\n",
       "    }\n",
       "\n",
       "    .dataframe tbody tr th {\n",
       "        vertical-align: top;\n",
       "    }\n",
       "\n",
       "    .dataframe thead th {\n",
       "        text-align: right;\n",
       "    }\n",
       "</style>\n",
       "<table border=\"1\" class=\"dataframe\">\n",
       "  <thead>\n",
       "    <tr style=\"text-align: right;\">\n",
       "      <th></th>\n",
       "      <th>order_id</th>\n",
       "      <th>quantity</th>\n",
       "      <th>item_name</th>\n",
       "      <th>choice_description</th>\n",
       "      <th>item_price</th>\n",
       "      <th>total_price</th>\n",
       "    </tr>\n",
       "  </thead>\n",
       "  <tbody>\n",
       "    <tr>\n",
       "      <th>0</th>\n",
       "      <td>1</td>\n",
       "      <td>1</td>\n",
       "      <td>Chips and Fresh Tomato Salsa</td>\n",
       "      <td>NaN</td>\n",
       "      <td>2.39</td>\n",
       "      <td>2.39</td>\n",
       "    </tr>\n",
       "    <tr>\n",
       "      <th>1</th>\n",
       "      <td>1</td>\n",
       "      <td>1</td>\n",
       "      <td>Izze</td>\n",
       "      <td>[Clementine]</td>\n",
       "      <td>3.39</td>\n",
       "      <td>3.39</td>\n",
       "    </tr>\n",
       "    <tr>\n",
       "      <th>2</th>\n",
       "      <td>1</td>\n",
       "      <td>1</td>\n",
       "      <td>Nantucket Nectar</td>\n",
       "      <td>[Apple]</td>\n",
       "      <td>3.39</td>\n",
       "      <td>3.39</td>\n",
       "    </tr>\n",
       "    <tr>\n",
       "      <th>3</th>\n",
       "      <td>1</td>\n",
       "      <td>1</td>\n",
       "      <td>Chips and Tomatillo-Green Chili Salsa</td>\n",
       "      <td>NaN</td>\n",
       "      <td>2.39</td>\n",
       "      <td>2.39</td>\n",
       "    </tr>\n",
       "    <tr>\n",
       "      <th>4</th>\n",
       "      <td>2</td>\n",
       "      <td>2</td>\n",
       "      <td>Chicken Bowl</td>\n",
       "      <td>[Tomatillo-Red Chili Salsa (Hot), [Black Beans...</td>\n",
       "      <td>16.98</td>\n",
       "      <td>33.96</td>\n",
       "    </tr>\n",
       "  </tbody>\n",
       "</table>\n",
       "</div>"
      ],
      "text/plain": [
       "   order_id  quantity                              item_name  \\\n",
       "0         1         1           Chips and Fresh Tomato Salsa   \n",
       "1         1         1                                   Izze   \n",
       "2         1         1                       Nantucket Nectar   \n",
       "3         1         1  Chips and Tomatillo-Green Chili Salsa   \n",
       "4         2         2                           Chicken Bowl   \n",
       "\n",
       "                                  choice_description  item_price  total_price  \n",
       "0                                                NaN        2.39         2.39  \n",
       "1                                       [Clementine]        3.39         3.39  \n",
       "2                                            [Apple]        3.39         3.39  \n",
       "3                                                NaN        2.39         2.39  \n",
       "4  [Tomatillo-Red Chili Salsa (Hot), [Black Beans...       16.98        33.96  "
      ]
     },
     "execution_count": 37,
     "metadata": {},
     "output_type": "execute_result"
    }
   ],
   "source": [
    "df.head()"
   ]
  },
  {
   "cell_type": "code",
   "execution_count": 38,
   "id": "5ecff6b8-e77c-4ce9-84b3-f49c29a49c2a",
   "metadata": {
    "tags": []
   },
   "outputs": [
    {
     "name": "stdout",
     "output_type": "stream",
     "text": [
      "39237.02\n"
     ]
    }
   ],
   "source": [
    "# how much was the revenue for the period dataset?\n",
    "revenue=df['total_price'].sum()\n",
    "print(revenue)"
   ]
  },
  {
   "cell_type": "code",
   "execution_count": 45,
   "id": "b55f4b58-ecd8-4296-86fa-db32d169d40d",
   "metadata": {
    "tags": []
   },
   "outputs": [],
   "source": [
    "# Which was the most-ordered item?\n",
    "# Groupby\n",
    "c=df.groupby('item_name')[\"quantity\"].sum()\n"
   ]
  },
  {
   "cell_type": "code",
   "execution_count": 48,
   "id": "6b813d3f-0bfb-4ab7-b052-1fb403f70114",
   "metadata": {
    "tags": []
   },
   "outputs": [
    {
     "data": {
      "text/plain": [
       "item_name\n",
       "Chicken Bowl           761\n",
       "Chicken Burrito        591\n",
       "Chips and Guacamole    506\n",
       "Steak Burrito          386\n",
       "Canned Soft Drink      351\n",
       "Name: quantity, dtype: int64"
      ]
     },
     "execution_count": 48,
     "metadata": {},
     "output_type": "execute_result"
    }
   ],
   "source": [
    "c.sort_values(ascending=False).head(5)"
   ]
  },
  {
   "cell_type": "code",
   "execution_count": 51,
   "id": "1776bce6-900e-46fa-9a76-affc355b0e6c",
   "metadata": {
    "tags": []
   },
   "outputs": [
    {
     "data": {
      "text/plain": [
       "50"
      ]
     },
     "execution_count": 51,
     "metadata": {},
     "output_type": "execute_result"
    }
   ],
   "source": [
    "#Unique values\n",
    "df.item_name.value_counts().count()"
   ]
  },
  {
   "cell_type": "code",
   "execution_count": 52,
   "id": "fd441a57-4134-4c55-baad-5a469e106f6a",
   "metadata": {
    "tags": []
   },
   "outputs": [
    {
     "data": {
      "text/plain": [
       "50"
      ]
     },
     "execution_count": 52,
     "metadata": {},
     "output_type": "execute_result"
    }
   ],
   "source": [
    "df.item_name.nunique()"
   ]
  },
  {
   "cell_type": "code",
   "execution_count": null,
   "id": "ac8558bf-d21c-4cf2-9ad9-0d24c77159e6",
   "metadata": {},
   "outputs": [],
   "source": []
  }
 ],
 "metadata": {
  "kernelspec": {
   "display_name": "Python 3 (ipykernel)",
   "language": "python",
   "name": "python3"
  },
  "language_info": {
   "codemirror_mode": {
    "name": "ipython",
    "version": 3
   },
   "file_extension": ".py",
   "mimetype": "text/x-python",
   "name": "python",
   "nbconvert_exporter": "python",
   "pygments_lexer": "ipython3",
   "version": "3.8.10"
  }
 },
 "nbformat": 4,
 "nbformat_minor": 5
}

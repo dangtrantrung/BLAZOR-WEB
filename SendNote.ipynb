{
 "cells": [
  {
   "cell_type": "code",
   "execution_count": 14,
   "metadata": {},
   "outputs": [],
   "source": [
    "from selenium import webdriver\n",
    "from time import sleep\n",
    "from login import LoginLinkedin  \n",
    "import gspread\n"
   ]
  },
  {
   "cell_type": "markdown",
   "metadata": {},
   "source": [
    "TASK 1: LOGIN"
   ]
  },
  {
   "cell_type": "code",
   "execution_count": 16,
   "metadata": {},
   "outputs": [
    {
     "ename": "SessionNotCreatedException",
     "evalue": "Message: session not created: This version of ChromeDriver only supports Chrome version 105\nCurrent browser version is 109.0.5414.119 with binary path C:\\Program Files\\Google\\Chrome\\Application\\chrome.exe\nStacktrace:\nBacktrace:\n\tOrdinal0 [0x0055DF13+2219795]\n\tOrdinal0 [0x004F2841+1779777]\n\tOrdinal0 [0x0040423D+803389]\n\tOrdinal0 [0x004264AC+943276]\n\tOrdinal0 [0x004219F0+924144]\n\tOrdinal0 [0x0041F179+913785]\n\tOrdinal0 [0x004536B9+1128121]\n\tOrdinal0 [0x0045331A+1127194]\n\tOrdinal0 [0x0044E616+1107478]\n\tOrdinal0 [0x00427F89+950153]\n\tOrdinal0 [0x00428F56+954198]\n\tGetHandleVerifier [0x00852CB2+3040210]\n\tGetHandleVerifier [0x00842BB4+2974420]\n\tGetHandleVerifier [0x005F6A0A+565546]\n\tGetHandleVerifier [0x005F5680+560544]\n\tOrdinal0 [0x004F9A5C+1808988]\n\tOrdinal0 [0x004FE3A8+1827752]\n\tOrdinal0 [0x004FE495+1827989]\n\tOrdinal0 [0x005080A4+1867940]\n\tBaseThreadInitThunk [0x753F337A+18]\n\tRtlInitializeExceptionChain [0x77599ED2+99]\n\tRtlInitializeExceptionChain [0x77599EA5+54]\n",
     "output_type": "error",
     "traceback": [
      "\u001b[1;31m---------------------------------------------------------------------------\u001b[0m",
      "\u001b[1;31mSessionNotCreatedException\u001b[0m                Traceback (most recent call last)",
      "\u001b[1;32mf:\\Python\\DataReport\\SendNoteToLinkedProfile\\SendNote.ipynb Cell 3'\u001b[0m in \u001b[0;36m<cell line: 1>\u001b[1;34m()\u001b[0m\n\u001b[1;32m----> <a href='vscode-notebook-cell:/f%3A/Python/DataReport/SendNoteToLinkedProfile/SendNote.ipynb#ch0000002?line=0'>1</a>\u001b[0m driver\u001b[39m=\u001b[39mwebdriver\u001b[39m.\u001b[39;49mChrome()\n\u001b[0;32m      <a href='vscode-notebook-cell:/f%3A/Python/DataReport/SendNoteToLinkedProfile/SendNote.ipynb#ch0000002?line=1'>2</a>\u001b[0m driver\u001b[39m.\u001b[39mget(\u001b[39m'\u001b[39m\u001b[39mhttps://www.linkedin.com/login\u001b[39m\u001b[39m'\u001b[39m)\n\u001b[0;32m      <a href='vscode-notebook-cell:/f%3A/Python/DataReport/SendNoteToLinkedProfile/SendNote.ipynb#ch0000002?line=3'>4</a>\u001b[0m login\u001b[39m=\u001b[39mLoginLinkedin(driver,\u001b[39m'\u001b[39m\u001b[39mprofiles.txt\u001b[39m\u001b[39m'\u001b[39m)\n",
      "File \u001b[1;32m~\\AppData\\Local\\Programs\\Python\\Python38\\lib\\site-packages\\selenium\\webdriver\\chrome\\webdriver.py:69\u001b[0m, in \u001b[0;36mWebDriver.__init__\u001b[1;34m(self, executable_path, port, options, service_args, desired_capabilities, service_log_path, chrome_options, service, keep_alive)\u001b[0m\n\u001b[0;32m     <a href='file:///c%3A/Users/DTTRUNG/AppData/Local/Programs/Python/Python38/lib/site-packages/selenium/webdriver/chrome/webdriver.py?line=65'>66</a>\u001b[0m \u001b[39mif\u001b[39;00m \u001b[39mnot\u001b[39;00m service:\n\u001b[0;32m     <a href='file:///c%3A/Users/DTTRUNG/AppData/Local/Programs/Python/Python38/lib/site-packages/selenium/webdriver/chrome/webdriver.py?line=66'>67</a>\u001b[0m     service \u001b[39m=\u001b[39m Service(executable_path, port, service_args, service_log_path)\n\u001b[1;32m---> <a href='file:///c%3A/Users/DTTRUNG/AppData/Local/Programs/Python/Python38/lib/site-packages/selenium/webdriver/chrome/webdriver.py?line=68'>69</a>\u001b[0m \u001b[39msuper\u001b[39;49m()\u001b[39m.\u001b[39;49m\u001b[39m__init__\u001b[39;49m(DesiredCapabilities\u001b[39m.\u001b[39;49mCHROME[\u001b[39m'\u001b[39;49m\u001b[39mbrowserName\u001b[39;49m\u001b[39m'\u001b[39;49m], \u001b[39m\"\u001b[39;49m\u001b[39mgoog\u001b[39;49m\u001b[39m\"\u001b[39;49m,\n\u001b[0;32m     <a href='file:///c%3A/Users/DTTRUNG/AppData/Local/Programs/Python/Python38/lib/site-packages/selenium/webdriver/chrome/webdriver.py?line=69'>70</a>\u001b[0m                  port, options,\n\u001b[0;32m     <a href='file:///c%3A/Users/DTTRUNG/AppData/Local/Programs/Python/Python38/lib/site-packages/selenium/webdriver/chrome/webdriver.py?line=70'>71</a>\u001b[0m                  service_args, desired_capabilities,\n\u001b[0;32m     <a href='file:///c%3A/Users/DTTRUNG/AppData/Local/Programs/Python/Python38/lib/site-packages/selenium/webdriver/chrome/webdriver.py?line=71'>72</a>\u001b[0m                  service_log_path, service, keep_alive)\n",
      "File \u001b[1;32m~\\AppData\\Local\\Programs\\Python\\Python38\\lib\\site-packages\\selenium\\webdriver\\chromium\\webdriver.py:92\u001b[0m, in \u001b[0;36mChromiumDriver.__init__\u001b[1;34m(self, browser_name, vendor_prefix, port, options, service_args, desired_capabilities, service_log_path, service, keep_alive)\u001b[0m\n\u001b[0;32m     <a href='file:///c%3A/Users/DTTRUNG/AppData/Local/Programs/Python/Python38/lib/site-packages/selenium/webdriver/chromium/webdriver.py?line=88'>89</a>\u001b[0m \u001b[39mself\u001b[39m\u001b[39m.\u001b[39mservice\u001b[39m.\u001b[39mstart()\n\u001b[0;32m     <a href='file:///c%3A/Users/DTTRUNG/AppData/Local/Programs/Python/Python38/lib/site-packages/selenium/webdriver/chromium/webdriver.py?line=90'>91</a>\u001b[0m \u001b[39mtry\u001b[39;00m:\n\u001b[1;32m---> <a href='file:///c%3A/Users/DTTRUNG/AppData/Local/Programs/Python/Python38/lib/site-packages/selenium/webdriver/chromium/webdriver.py?line=91'>92</a>\u001b[0m     \u001b[39msuper\u001b[39;49m()\u001b[39m.\u001b[39;49m\u001b[39m__init__\u001b[39;49m(\n\u001b[0;32m     <a href='file:///c%3A/Users/DTTRUNG/AppData/Local/Programs/Python/Python38/lib/site-packages/selenium/webdriver/chromium/webdriver.py?line=92'>93</a>\u001b[0m         command_executor\u001b[39m=\u001b[39;49mChromiumRemoteConnection(\n\u001b[0;32m     <a href='file:///c%3A/Users/DTTRUNG/AppData/Local/Programs/Python/Python38/lib/site-packages/selenium/webdriver/chromium/webdriver.py?line=93'>94</a>\u001b[0m             remote_server_addr\u001b[39m=\u001b[39;49m\u001b[39mself\u001b[39;49m\u001b[39m.\u001b[39;49mservice\u001b[39m.\u001b[39;49mservice_url,\n\u001b[0;32m     <a href='file:///c%3A/Users/DTTRUNG/AppData/Local/Programs/Python/Python38/lib/site-packages/selenium/webdriver/chromium/webdriver.py?line=94'>95</a>\u001b[0m             browser_name\u001b[39m=\u001b[39;49mbrowser_name, vendor_prefix\u001b[39m=\u001b[39;49mvendor_prefix,\n\u001b[0;32m     <a href='file:///c%3A/Users/DTTRUNG/AppData/Local/Programs/Python/Python38/lib/site-packages/selenium/webdriver/chromium/webdriver.py?line=95'>96</a>\u001b[0m             keep_alive\u001b[39m=\u001b[39;49mkeep_alive, ignore_proxy\u001b[39m=\u001b[39;49m_ignore_proxy),\n\u001b[0;32m     <a href='file:///c%3A/Users/DTTRUNG/AppData/Local/Programs/Python/Python38/lib/site-packages/selenium/webdriver/chromium/webdriver.py?line=96'>97</a>\u001b[0m         options\u001b[39m=\u001b[39;49moptions)\n\u001b[0;32m     <a href='file:///c%3A/Users/DTTRUNG/AppData/Local/Programs/Python/Python38/lib/site-packages/selenium/webdriver/chromium/webdriver.py?line=97'>98</a>\u001b[0m \u001b[39mexcept\u001b[39;00m \u001b[39mException\u001b[39;00m:\n\u001b[0;32m     <a href='file:///c%3A/Users/DTTRUNG/AppData/Local/Programs/Python/Python38/lib/site-packages/selenium/webdriver/chromium/webdriver.py?line=98'>99</a>\u001b[0m     \u001b[39mself\u001b[39m\u001b[39m.\u001b[39mquit()\n",
      "File \u001b[1;32m~\\AppData\\Local\\Programs\\Python\\Python38\\lib\\site-packages\\selenium\\webdriver\\remote\\webdriver.py:270\u001b[0m, in \u001b[0;36mWebDriver.__init__\u001b[1;34m(self, command_executor, desired_capabilities, browser_profile, proxy, keep_alive, file_detector, options)\u001b[0m\n\u001b[0;32m    <a href='file:///c%3A/Users/DTTRUNG/AppData/Local/Programs/Python/Python38/lib/site-packages/selenium/webdriver/remote/webdriver.py?line=267'>268</a>\u001b[0m \u001b[39mself\u001b[39m\u001b[39m.\u001b[39m_authenticator_id \u001b[39m=\u001b[39m \u001b[39mNone\u001b[39;00m\n\u001b[0;32m    <a href='file:///c%3A/Users/DTTRUNG/AppData/Local/Programs/Python/Python38/lib/site-packages/selenium/webdriver/remote/webdriver.py?line=268'>269</a>\u001b[0m \u001b[39mself\u001b[39m\u001b[39m.\u001b[39mstart_client()\n\u001b[1;32m--> <a href='file:///c%3A/Users/DTTRUNG/AppData/Local/Programs/Python/Python38/lib/site-packages/selenium/webdriver/remote/webdriver.py?line=269'>270</a>\u001b[0m \u001b[39mself\u001b[39;49m\u001b[39m.\u001b[39;49mstart_session(capabilities, browser_profile)\n",
      "File \u001b[1;32m~\\AppData\\Local\\Programs\\Python\\Python38\\lib\\site-packages\\selenium\\webdriver\\remote\\webdriver.py:363\u001b[0m, in \u001b[0;36mWebDriver.start_session\u001b[1;34m(self, capabilities, browser_profile)\u001b[0m\n\u001b[0;32m    <a href='file:///c%3A/Users/DTTRUNG/AppData/Local/Programs/Python/Python38/lib/site-packages/selenium/webdriver/remote/webdriver.py?line=360'>361</a>\u001b[0m w3c_caps \u001b[39m=\u001b[39m _make_w3c_caps(capabilities)\n\u001b[0;32m    <a href='file:///c%3A/Users/DTTRUNG/AppData/Local/Programs/Python/Python38/lib/site-packages/selenium/webdriver/remote/webdriver.py?line=361'>362</a>\u001b[0m parameters \u001b[39m=\u001b[39m {\u001b[39m\"\u001b[39m\u001b[39mcapabilities\u001b[39m\u001b[39m\"\u001b[39m: w3c_caps}\n\u001b[1;32m--> <a href='file:///c%3A/Users/DTTRUNG/AppData/Local/Programs/Python/Python38/lib/site-packages/selenium/webdriver/remote/webdriver.py?line=362'>363</a>\u001b[0m response \u001b[39m=\u001b[39m \u001b[39mself\u001b[39;49m\u001b[39m.\u001b[39;49mexecute(Command\u001b[39m.\u001b[39;49mNEW_SESSION, parameters)\n\u001b[0;32m    <a href='file:///c%3A/Users/DTTRUNG/AppData/Local/Programs/Python/Python38/lib/site-packages/selenium/webdriver/remote/webdriver.py?line=363'>364</a>\u001b[0m \u001b[39mif\u001b[39;00m \u001b[39m'\u001b[39m\u001b[39msessionId\u001b[39m\u001b[39m'\u001b[39m \u001b[39mnot\u001b[39;00m \u001b[39min\u001b[39;00m response:\n\u001b[0;32m    <a href='file:///c%3A/Users/DTTRUNG/AppData/Local/Programs/Python/Python38/lib/site-packages/selenium/webdriver/remote/webdriver.py?line=364'>365</a>\u001b[0m     response \u001b[39m=\u001b[39m response[\u001b[39m'\u001b[39m\u001b[39mvalue\u001b[39m\u001b[39m'\u001b[39m]\n",
      "File \u001b[1;32m~\\AppData\\Local\\Programs\\Python\\Python38\\lib\\site-packages\\selenium\\webdriver\\remote\\webdriver.py:428\u001b[0m, in \u001b[0;36mWebDriver.execute\u001b[1;34m(self, driver_command, params)\u001b[0m\n\u001b[0;32m    <a href='file:///c%3A/Users/DTTRUNG/AppData/Local/Programs/Python/Python38/lib/site-packages/selenium/webdriver/remote/webdriver.py?line=425'>426</a>\u001b[0m response \u001b[39m=\u001b[39m \u001b[39mself\u001b[39m\u001b[39m.\u001b[39mcommand_executor\u001b[39m.\u001b[39mexecute(driver_command, params)\n\u001b[0;32m    <a href='file:///c%3A/Users/DTTRUNG/AppData/Local/Programs/Python/Python38/lib/site-packages/selenium/webdriver/remote/webdriver.py?line=426'>427</a>\u001b[0m \u001b[39mif\u001b[39;00m response:\n\u001b[1;32m--> <a href='file:///c%3A/Users/DTTRUNG/AppData/Local/Programs/Python/Python38/lib/site-packages/selenium/webdriver/remote/webdriver.py?line=427'>428</a>\u001b[0m     \u001b[39mself\u001b[39;49m\u001b[39m.\u001b[39;49merror_handler\u001b[39m.\u001b[39;49mcheck_response(response)\n\u001b[0;32m    <a href='file:///c%3A/Users/DTTRUNG/AppData/Local/Programs/Python/Python38/lib/site-packages/selenium/webdriver/remote/webdriver.py?line=428'>429</a>\u001b[0m     response[\u001b[39m'\u001b[39m\u001b[39mvalue\u001b[39m\u001b[39m'\u001b[39m] \u001b[39m=\u001b[39m \u001b[39mself\u001b[39m\u001b[39m.\u001b[39m_unwrap_value(\n\u001b[0;32m    <a href='file:///c%3A/Users/DTTRUNG/AppData/Local/Programs/Python/Python38/lib/site-packages/selenium/webdriver/remote/webdriver.py?line=429'>430</a>\u001b[0m         response\u001b[39m.\u001b[39mget(\u001b[39m'\u001b[39m\u001b[39mvalue\u001b[39m\u001b[39m'\u001b[39m, \u001b[39mNone\u001b[39;00m))\n\u001b[0;32m    <a href='file:///c%3A/Users/DTTRUNG/AppData/Local/Programs/Python/Python38/lib/site-packages/selenium/webdriver/remote/webdriver.py?line=430'>431</a>\u001b[0m     \u001b[39mreturn\u001b[39;00m response\n",
      "File \u001b[1;32m~\\AppData\\Local\\Programs\\Python\\Python38\\lib\\site-packages\\selenium\\webdriver\\remote\\errorhandler.py:243\u001b[0m, in \u001b[0;36mErrorHandler.check_response\u001b[1;34m(self, response)\u001b[0m\n\u001b[0;32m    <a href='file:///c%3A/Users/DTTRUNG/AppData/Local/Programs/Python/Python38/lib/site-packages/selenium/webdriver/remote/errorhandler.py?line=240'>241</a>\u001b[0m         alert_text \u001b[39m=\u001b[39m value[\u001b[39m'\u001b[39m\u001b[39malert\u001b[39m\u001b[39m'\u001b[39m]\u001b[39m.\u001b[39mget(\u001b[39m'\u001b[39m\u001b[39mtext\u001b[39m\u001b[39m'\u001b[39m)\n\u001b[0;32m    <a href='file:///c%3A/Users/DTTRUNG/AppData/Local/Programs/Python/Python38/lib/site-packages/selenium/webdriver/remote/errorhandler.py?line=241'>242</a>\u001b[0m     \u001b[39mraise\u001b[39;00m exception_class(message, screen, stacktrace, alert_text)  \u001b[39m# type: ignore[call-arg]  # mypy is not smart enough here\u001b[39;00m\n\u001b[1;32m--> <a href='file:///c%3A/Users/DTTRUNG/AppData/Local/Programs/Python/Python38/lib/site-packages/selenium/webdriver/remote/errorhandler.py?line=242'>243</a>\u001b[0m \u001b[39mraise\u001b[39;00m exception_class(message, screen, stacktrace)\n",
      "\u001b[1;31mSessionNotCreatedException\u001b[0m: Message: session not created: This version of ChromeDriver only supports Chrome version 105\nCurrent browser version is 109.0.5414.119 with binary path C:\\Program Files\\Google\\Chrome\\Application\\chrome.exe\nStacktrace:\nBacktrace:\n\tOrdinal0 [0x0055DF13+2219795]\n\tOrdinal0 [0x004F2841+1779777]\n\tOrdinal0 [0x0040423D+803389]\n\tOrdinal0 [0x004264AC+943276]\n\tOrdinal0 [0x004219F0+924144]\n\tOrdinal0 [0x0041F179+913785]\n\tOrdinal0 [0x004536B9+1128121]\n\tOrdinal0 [0x0045331A+1127194]\n\tOrdinal0 [0x0044E616+1107478]\n\tOrdinal0 [0x00427F89+950153]\n\tOrdinal0 [0x00428F56+954198]\n\tGetHandleVerifier [0x00852CB2+3040210]\n\tGetHandleVerifier [0x00842BB4+2974420]\n\tGetHandleVerifier [0x005F6A0A+565546]\n\tGetHandleVerifier [0x005F5680+560544]\n\tOrdinal0 [0x004F9A5C+1808988]\n\tOrdinal0 [0x004FE3A8+1827752]\n\tOrdinal0 [0x004FE495+1827989]\n\tOrdinal0 [0x005080A4+1867940]\n\tBaseThreadInitThunk [0x753F337A+18]\n\tRtlInitializeExceptionChain [0x77599ED2+99]\n\tRtlInitializeExceptionChain [0x77599EA5+54]\n"
     ]
    }
   ],
   "source": [
    "driver=webdriver.Chrome()\n",
    "driver.get('https://www.linkedin.com/login')\n",
    "\n",
    "login=LoginLinkedin(driver,'profiles.txt')"
   ]
  },
  {
   "cell_type": "markdown",
   "metadata": {},
   "source": [
    "TASK 2: ACCESS THE PROFILE URL FROM GOOGLE SHEET"
   ]
  },
  {
   "cell_type": "code",
   "execution_count": null,
   "metadata": {},
   "outputs": [
    {
     "name": "stdout",
     "output_type": "stream",
     "text": [
      "Finish\n"
     ]
    }
   ],
   "source": [
    "from google.oauth2.service_account import Credentials\n",
    "\n",
    "scopes = [\n",
    "    'https://www.googleapis.com/auth/spreadsheets',\n",
    "    'https://www.googleapis.com/auth/drive'\n",
    "]\n",
    "\n",
    "credentials = Credentials.from_service_account_file(\n",
    "    'linkedinconnect.json',\n",
    "    scopes=scopes\n",
    ")\n",
    "\n",
    "gc = gspread.authorize(credentials)\n",
    "print('Finish')"
   ]
  },
  {
   "cell_type": "code",
   "execution_count": null,
   "metadata": {},
   "outputs": [],
   "source": [
    "from selenium.webdriver.common.by import By"
   ]
  },
  {
   "cell_type": "code",
   "execution_count": null,
   "metadata": {},
   "outputs": [],
   "source": [
    "#gc = gspread.service_account(filename='linkedinconnect.json')\n",
    "url='https://docs.google.com/spreadsheets/d/1eA5mp2mwDvm-wkrMnOnTGMUdmRunJNEHUCLabw9qZ8s/edit#gid=1132327252'\n",
    "sh = gc.open_by_url(url)\n",
    "worksheet=sh.worksheet('testprofiles')\n",
    "username=worksheet.col_values(1)[1:]\n",
    "user_url=worksheet.col_values(5)[1:]\n",
    "\n",
    "driver.get(user_url[1])\n",
    "sleep(4)\n",
    "connect_but=driver.find_element(By.TAG_NAME, 'button')\n",
    "driver.execute_script(\"arguments[0].click();\",connect_but)\n",
    "sleep(1)"
   ]
  }
 ],
 "metadata": {
  "interpreter": {
   "hash": "27d3790b2330a4c2d1ea52092b2aa69573316a4beaf0a1c1e0f690a5290cc46e"
  },
  "kernelspec": {
   "display_name": "Python 3.8.10 64-bit",
   "language": "python",
   "name": "python3"
  },
  "language_info": {
   "codemirror_mode": {
    "name": "ipython",
    "version": 3
   },
   "file_extension": ".py",
   "mimetype": "text/x-python",
   "name": "python",
   "nbconvert_exporter": "python",
   "pygments_lexer": "ipython3",
   "version": "3.8.10"
  },
  "metadata": {
   "interpreter": {
    "hash": "27d3790b2330a4c2d1ea52092b2aa69573316a4beaf0a1c1e0f690a5290cc46e"
   }
  },
  "orig_nbformat": 2
 },
 "nbformat": 4,
 "nbformat_minor": 2
}
